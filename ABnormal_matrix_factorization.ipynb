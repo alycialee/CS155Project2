{
 "cells": [
  {
   "cell_type": "code",
   "execution_count": 1,
   "metadata": {},
   "outputs": [],
   "source": [
    "import numpy as np\n",
    "import pickle\n",
    "import matplotlib.pyplot as plt"
   ]
  },
  {
   "cell_type": "code",
   "execution_count": 2,
   "metadata": {},
   "outputs": [],
   "source": [
    "with open('data/get_movies.pkl', 'rb') as f:\n",
    "    t = pickle.load(f)\n",
    "    \n",
    "movie_dic = t[0]\n",
    "movie_genre_dic = t[1]\n",
    "\n",
    "with open('data/get_ratings.pkl', 'rb') as f:\n",
    "    lst = pickle.load(f)"
   ]
  },
  {
   "cell_type": "code",
   "execution_count": 3,
   "metadata": {},
   "outputs": [],
   "source": [
    "def grad_A(Ui, Yij, Vj, a, b, y_mean, reg, eta):\n",
    "    \"\"\"\n",
    "    Takes as input Ui (the ith row of U), a training point Yij, the column\n",
    "    vector Vj (jth column of V^T), reg (the regularization parameter lambda),\n",
    "    and eta (the learning rate).\n",
    "\n",
    "    Returns the updated value of a (by updating by eta times the gradient with respect to a).\n",
    "    \"\"\"\n",
    "    return (1-2*reg*eta)*a + 2 * eta * (Yij - y_mean - np.dot(Ui,Vj) - a - b)\n",
    "\n",
    "def grad_B(Ui, Yij, Vj, a, b, y_mean, reg, eta):\n",
    "    \"\"\"\n",
    "    Takes as input Ui (the ith row of U), a training point Yij, the column\n",
    "    vector Vj (jth column of V^T), reg (the regularization parameter lambda),\n",
    "    and eta (the learning rate).\n",
    "\n",
    "    Returns the updated value of a (by updating by eta times the gradient with respect to a).\n",
    "    \"\"\"\n",
    "    return (1-2*reg*eta)*b + 2 * eta * (Yij - y_mean - np.dot(Ui,Vj) - a - b)\n",
    "\n",
    "def grad_U(Ui, Yij, Vj, a, b, y_mean, reg, eta):\n",
    "    \"\"\"\n",
    "    Takes as input Ui (the ith row of U), a training point Yij, the column\n",
    "    vector Vj (jth column of V^T), reg (the regularization parameter lambda),\n",
    "    and eta (the learning rate).\n",
    "\n",
    "    Returns the gradient of the regularized loss function with\n",
    "    respect to Ui multiplied by eta.\n",
    "    \"\"\"\n",
    "    return (1-2*reg*eta)*Ui + 2 * eta * Vj * (Yij - y_mean - np.dot(Ui,Vj) - a - b)\n",
    "\n",
    "def grad_V(Vj, Yij, Ui, a, b, y_mean, reg, eta):\n",
    "    \"\"\"\n",
    "    Takes as input the column vector Vj (jth column of V^T), a training point Yij,\n",
    "    Ui (the ith row of U), reg (the regularization parameter lambda),\n",
    "    and eta (the learning rate).\n",
    "\n",
    "    Returns the gradient of the regularized loss function with\n",
    "    respect to Vj multiplied by eta.\n",
    "    \"\"\"\n",
    "    return (1-2*reg*eta)*Vj + 2 * eta * Ui * (Yij - y_mean - np.dot(Ui,Vj) - a - b)\n",
    "\n",
    "def get_err(U, V, Y, A, B, reg=0.0):\n",
    "    \"\"\"\n",
    "    Takes as input a matrix Y of triples (i, j, Y_ij) where i is the index of a user,\n",
    "    j is the index of a movie, and Y_ij is user i's rating of movie j and\n",
    "    user/movie matrices U and V.\n",
    "\n",
    "    Returns the mean regularized squared-error of predictions made by\n",
    "    estimating Y_{ij} as the dot product of the ith row of U and the jth column of V^T.\n",
    "    \"\"\"\n",
    "    \n",
    "    y_mean = np.mean(np.array([tup[2] for tup in Y]))\n",
    "    \n",
    "    # Compute mean squared error on each data point in Y; include\n",
    "    # regularization penalty in error calculations.\n",
    "    # We first compute the total squared squared error\n",
    "    err = 0.0\n",
    "    for (i,j,Yij) in Y:\n",
    "        err += (Yij - y_mean - np.dot(U[i-1], V[:,j-1]) - A[i-1] - B[:,j-1])**2\n",
    "    # Add error penalty due to regularization if regularization\n",
    "    # parameter is nonzero\n",
    "    if reg != 0:\n",
    "        U_frobenius_norm = np.linalg.norm(U, ord='fro')\n",
    "        V_frobenius_norm = np.linalg.norm(V, ord='fro')\n",
    "        A_frobenius_norm = np.linalg.norm(A, ord='fro')\n",
    "        B_frobenius_norm = np.linalg.norm(B, ord='fro')\n",
    "        err += reg * (U_frobenius_norm ** 2)\n",
    "        err += reg * (V_frobenius_norm ** 2)\n",
    "        err += reg * (A_frobenius_norm ** 2)\n",
    "        err += reg * (B_frobenius_norm ** 2)\n",
    "    # Return the mean of the regularized error\n",
    "    return err / float(len(Y))\n",
    "\n",
    "def get_msqe_err(U, V, Y, A, B):\n",
    "    y_mean = np.mean(np.array([tup[2] for tup in Y]))\n",
    "    \n",
    "    err = 0.0\n",
    "    for (i,j,Yij) in Y:\n",
    "        err += (Yij - y_mean - np.dot(U[i-1], V[:,j-1]) - A[i-1] - B[:,j-1])**2\n",
    "    \n",
    "    err /= len(Y)\n",
    "    \n",
    "    return err ** 0.5\n",
    "\n",
    "\n",
    "def train_model(M, N, K, eta, reg, Y, Y_test):\n",
    "    \"\"\"\n",
    "    Given a training data matrix Y containing rows (i, j, Y_ij)\n",
    "    where Y_ij is user i's rating on movie j, learns an\n",
    "    M x K matrix U and N x K matrix V such that rating Y_ij is approximated\n",
    "    by (UV)_ij.\n",
    "\n",
    "    Uses a learning rate of <eta> and regularization of <reg>. Stops after\n",
    "    <max_epochs> epochs, or once the magnitude of the decrease in regularized\n",
    "    MSE between epochs is smaller than a fraction <eps> of the decrease in\n",
    "    MSE after the first epoch.\n",
    "\n",
    "    Returns a tuple (U, V, err) consisting of U, V, and the unregularized MSE\n",
    "    of the model.\n",
    "    \"\"\"\n",
    "    y_mean = np.mean(np.array([tup[2] for tup in Y]))\n",
    "    \n",
    "    # Initialize U, V, A, B\n",
    "    U = np.random.random((M,K)) - 0.5\n",
    "    V = np.random.random((K,N)) - 0.5\n",
    "    \n",
    "    A = np.random.random((M,1)) - 0.5\n",
    "    B = np.random.random((1,N)) - 0.5\n",
    "    \n",
    "    best_test_error = float('inf')\n",
    "\n",
    "    size = len(Y)\n",
    "    delta = None\n",
    "    indices = np.arange(size)    \n",
    "    epoch = 0\n",
    "    while epoch < 301:\n",
    "        epoch += 1\n",
    "        # Run an epoch of SGD\n",
    "        before_E_in = get_err(U, V, Y, A, B, reg)\n",
    "        np.random.shuffle(indices)\n",
    "        \n",
    "        prev_U = U.copy()\n",
    "        prev_V = V.copy()\n",
    "        prev_A = A.copy()\n",
    "        prev_B = B.copy()\n",
    "        \n",
    "        for ind in indices:\n",
    "            (i,j, Yij) = Y[ind]\n",
    "            # Update U[i], V[j]\n",
    "            A[i-1] = grad_A(U[i-1], Yij, V[:,j-1], A[i-1], B[:,j-1], y_mean, reg, eta)\n",
    "            B[:,j-1] = grad_B(V[:,j-1], Yij, U[i-1], A[i-1], B[:,j-1], y_mean, reg, eta)\n",
    "\n",
    "            \n",
    "            U[i-1] = grad_U(U[i-1], Yij, V[:,j-1], A[i-1], B[:,j-1], y_mean, reg, eta)\n",
    "            V[:,j-1] = grad_V(V[:,j-1], Yij, U[i-1], A[i-1], B[:,j-1], y_mean, reg, eta)\n",
    "            \n",
    "            \n",
    "        # At end of epoch, print E_in\n",
    "        E_in = get_err(U, V, Y, A, B, reg)\n",
    "        E_out = get_msqe_err(U, V, Y_test, A, B)\n",
    "        print(\"Epoch %s, E_in (regularized MSE): %s; E_out (MSQE): %s\"%(epoch, E_in, E_out))\n",
    "        \n",
    "        if best_test_error > E_out:\n",
    "            best_test_error = E_out\n",
    "        else:\n",
    "            return (prev_U, prev_V, get_msqe_err(prev_U, prev_V, Y, prev_A, prev_B), get_msqe_err(prev_U, prev_V, Y_test, prev_A, prev_B), prev_A, prev_B, epoch - 1)\n",
    "    return -1\n"
   ]
  },
  {
   "cell_type": "code",
   "execution_count": 4,
   "metadata": {},
   "outputs": [],
   "source": [
    "num_movies = len(movie_dic)\n",
    "num_users = 943"
   ]
  },
  {
   "cell_type": "code",
   "execution_count": 5,
   "metadata": {},
   "outputs": [],
   "source": [
    "m = num_users\n",
    "n = num_movies\n",
    "k = 20\n",
    "eta = 0.1\n",
    "reg = 0.01"
   ]
  },
  {
   "cell_type": "code",
   "execution_count": 6,
   "metadata": {},
   "outputs": [],
   "source": [
    "ratings = np.array(lst)"
   ]
  },
  {
   "cell_type": "markdown",
   "metadata": {},
   "source": [
    "# train/test"
   ]
  },
  {
   "cell_type": "code",
   "execution_count": 7,
   "metadata": {},
   "outputs": [],
   "source": [
    "Y_train = np.loadtxt('data/train.txt').astype(int)\n",
    "Y_test = np.loadtxt('data/test.txt').astype(int)"
   ]
  },
  {
   "cell_type": "code",
   "execution_count": 8,
   "metadata": {},
   "outputs": [
    {
     "name": "stdout",
     "output_type": "stream",
     "text": [
      "Epoch 1, E_in (regularized MSE): [0.86992269]; E_out (MSQE): [0.97496961]\n",
      "Epoch 2, E_in (regularized MSE): [0.81633761]; E_out (MSQE): [0.95495333]\n",
      "Epoch 3, E_in (regularized MSE): [0.79389192]; E_out (MSQE): [0.9490681]\n",
      "Epoch 4, E_in (regularized MSE): [0.7733412]; E_out (MSQE): [0.94343846]\n",
      "Epoch 5, E_in (regularized MSE): [0.75623412]; E_out (MSQE): [0.93836289]\n",
      "Epoch 6, E_in (regularized MSE): [0.73670887]; E_out (MSQE): [0.93487013]\n",
      "Epoch 7, E_in (regularized MSE): [0.72010315]; E_out (MSQE): [0.9304727]\n",
      "Epoch 8, E_in (regularized MSE): [0.70327425]; E_out (MSQE): [0.92984141]\n",
      "Epoch 9, E_in (regularized MSE): [0.68776704]; E_out (MSQE): [0.92647544]\n",
      "Epoch 10, E_in (regularized MSE): [0.6739961]; E_out (MSQE): [0.92353083]\n",
      "Epoch 11, E_in (regularized MSE): [0.6612301]; E_out (MSQE): [0.92102686]\n",
      "Epoch 12, E_in (regularized MSE): [0.64865138]; E_out (MSQE): [0.92147764]\n",
      "0.012 0.1 [0.92102686]\n",
      "new record\n",
      "Best (eta, reg) pair:  (0.012, 0.1)\n",
      "Epoch 1, E_in (regularized MSE): [0.86625957]; E_out (MSQE): [0.97052326]\n",
      "Epoch 2, E_in (regularized MSE): [0.81630636]; E_out (MSQE): [0.95354901]\n",
      "Epoch 3, E_in (regularized MSE): [0.79459532]; E_out (MSQE): [0.94959996]\n",
      "Epoch 4, E_in (regularized MSE): [0.77504807]; E_out (MSQE): [0.9435543]\n",
      "Epoch 5, E_in (regularized MSE): [0.75689759]; E_out (MSQE): [0.93834883]\n",
      "Epoch 6, E_in (regularized MSE): [0.73865035]; E_out (MSQE): [0.93625395]\n",
      "Epoch 7, E_in (regularized MSE): [0.72051857]; E_out (MSQE): [0.93255548]\n",
      "Epoch 8, E_in (regularized MSE): [0.70230338]; E_out (MSQE): [0.93016953]\n",
      "Epoch 9, E_in (regularized MSE): [0.68471367]; E_out (MSQE): [0.9272655]\n",
      "Epoch 10, E_in (regularized MSE): [0.66998781]; E_out (MSQE): [0.92518768]\n",
      "Epoch 11, E_in (regularized MSE): [0.65492612]; E_out (MSQE): [0.92271332]\n",
      "Epoch 12, E_in (regularized MSE): [0.64274376]; E_out (MSQE): [0.92213263]\n",
      "Epoch 13, E_in (regularized MSE): [0.63064204]; E_out (MSQE): [0.91949273]\n",
      "Epoch 14, E_in (regularized MSE): [0.62065885]; E_out (MSQE): [0.91856559]\n",
      "Epoch 15, E_in (regularized MSE): [0.61010262]; E_out (MSQE): [0.9176994]\n",
      "Epoch 16, E_in (regularized MSE): [0.60174034]; E_out (MSQE): [0.91668231]\n",
      "Epoch 17, E_in (regularized MSE): [0.59504019]; E_out (MSQE): [0.91628858]\n",
      "Epoch 18, E_in (regularized MSE): [0.58800649]; E_out (MSQE): [0.91504757]\n",
      "Epoch 19, E_in (regularized MSE): [0.5810289]; E_out (MSQE): [0.91450977]\n",
      "Epoch 20, E_in (regularized MSE): [0.57639797]; E_out (MSQE): [0.91417846]\n",
      "Epoch 21, E_in (regularized MSE): [0.57116483]; E_out (MSQE): [0.91375699]\n",
      "Epoch 22, E_in (regularized MSE): [0.56684878]; E_out (MSQE): [0.91527347]\n",
      "[0.91375699] 21\n"
     ]
    }
   ],
   "source": [
    "num_movies = len(movie_dic)\n",
    "num_users = 943\n",
    "m = num_users\n",
    "n = num_movies\n",
    "k = 20\n",
    "\n",
    "# etas = [0.005, 0.007, 0.009, 0.003, 0.001]\n",
    "# regs = [0.1, 0.12, 0.14, 0.08, 0.06]\n",
    "\n",
    "etas = [0.012]\n",
    "regs = [0.1]\n",
    "\n",
    "\n",
    "best_pair = (0.1, 0.001)\n",
    "best_e_out = float('inf')\n",
    "\n",
    "for eta in etas:\n",
    "    for reg in regs:\n",
    "        u,v, final_err, final_test_err, a, b, epoch = train_model(m, n, k, eta, reg, Y_train, Y_test)\n",
    "        \n",
    "        print(eta, reg, final_test_err)\n",
    "        \n",
    "        if best_e_out > final_test_err:\n",
    "            best_pair = (eta, reg)\n",
    "            best_e_out = final_test_err\n",
    "            \n",
    "            print(\"new record\")\n",
    "\n",
    "print(\"Best (eta, reg) pair: \", best_pair)\n",
    "\n",
    "\n",
    "u,v, final_err, final_test_err, a, b, epoch = train_model(m, n, k, best_pair[0], best_pair[1], Y_train, Y_test)\n",
    "\n",
    "print(final_test_err, epoch)"
   ]
  },
  {
   "cell_type": "code",
   "execution_count": 9,
   "metadata": {},
   "outputs": [],
   "source": [
    "with open(\"matrices/abnormal_best_model_eta_{}_reg_{}_epoch_{}_testerr_{}.matrix\".format(best_pair[0], best_pair[1], epoch, final_test_err), \"wb+\") as f:\n",
    "    np.save(f, v)"
   ]
  },
  {
   "cell_type": "markdown",
   "metadata": {},
   "source": [
    "# SVD visualization"
   ]
  },
  {
   "cell_type": "code",
   "execution_count": 10,
   "metadata": {},
   "outputs": [
    {
     "name": "stdout",
     "output_type": "stream",
     "text": [
      "done\n"
     ]
    }
   ],
   "source": [
    "from sklearn.decomposition import TruncatedSVD\n",
    "\n",
    "svd = TruncatedSVD(n_components=2, n_iter=7, random_state=42)\n",
    "svd.fit_transform(v)\n",
    "print(\"done\")"
   ]
  },
  {
   "cell_type": "code",
   "execution_count": 11,
   "metadata": {},
   "outputs": [],
   "source": [
    "from numpy.linalg import svd\n",
    "a, sigma, b = np.linalg.svd(v)"
   ]
  },
  {
   "cell_type": "code",
   "execution_count": 12,
   "metadata": {},
   "outputs": [
    {
     "data": {
      "text/plain": [
       "(20, 20)"
      ]
     },
     "execution_count": 12,
     "metadata": {},
     "output_type": "execute_result"
    }
   ],
   "source": [
    "a.shape"
   ]
  },
  {
   "cell_type": "code",
   "execution_count": 13,
   "metadata": {},
   "outputs": [
    {
     "data": {
      "text/plain": [
       "(1682, 1682)"
      ]
     },
     "execution_count": 13,
     "metadata": {},
     "output_type": "execute_result"
    }
   ],
   "source": [
    "b.shape"
   ]
  },
  {
   "cell_type": "code",
   "execution_count": 14,
   "metadata": {},
   "outputs": [
    {
     "data": {
      "text/plain": [
       "(20, 20)"
      ]
     },
     "execution_count": 14,
     "metadata": {},
     "output_type": "execute_result"
    }
   ],
   "source": [
    "np.diag(sigma).shape"
   ]
  },
  {
   "cell_type": "code",
   "execution_count": 15,
   "metadata": {},
   "outputs": [
    {
     "data": {
      "text/plain": [
       "(943, 20)"
      ]
     },
     "execution_count": 15,
     "metadata": {},
     "output_type": "execute_result"
    }
   ],
   "source": [
    "u.shape"
   ]
  },
  {
   "cell_type": "code",
   "execution_count": 16,
   "metadata": {},
   "outputs": [
    {
     "data": {
      "text/plain": [
       "(20, 1682)"
      ]
     },
     "execution_count": 16,
     "metadata": {},
     "output_type": "execute_result"
    }
   ],
   "source": [
    "v.shape"
   ]
  },
  {
   "cell_type": "code",
   "execution_count": 17,
   "metadata": {},
   "outputs": [
    {
     "name": "stdout",
     "output_type": "stream",
     "text": [
      "(2, 20)\n"
     ]
    }
   ],
   "source": [
    "transformer = a[:, :2].T\n",
    "print(transformer.shape)"
   ]
  },
  {
   "cell_type": "code",
   "execution_count": 18,
   "metadata": {},
   "outputs": [
    {
     "name": "stdout",
     "output_type": "stream",
     "text": [
      "(1682, 2)\n"
     ]
    }
   ],
   "source": [
    "transformed_v = np.matmul(transformer, v).T\n",
    "print(transformed_v.shape)"
   ]
  },
  {
   "cell_type": "code",
   "execution_count": 19,
   "metadata": {},
   "outputs": [
    {
     "name": "stdout",
     "output_type": "stream",
     "text": [
      "(943, 2)\n"
     ]
    }
   ],
   "source": [
    "transformed_u = np.matmul(transformer, u.T).T\n",
    "print(transformed_u.shape)"
   ]
  },
  {
   "cell_type": "markdown",
   "metadata": {},
   "source": [
    "# visualizations"
   ]
  },
  {
   "cell_type": "code",
   "execution_count": 20,
   "metadata": {},
   "outputs": [],
   "source": [
    "indices = np.random.randint(1682, size=10)"
   ]
  },
  {
   "cell_type": "code",
   "execution_count": 21,
   "metadata": {},
   "outputs": [],
   "source": [
    "x = [transformed_v[i][0] for i in indices]\n",
    "y = [transformed_v[i][1] for i in indices]"
   ]
  },
  {
   "cell_type": "code",
   "execution_count": 22,
   "metadata": {},
   "outputs": [
    {
     "data": {
      "text/plain": [
       "<matplotlib.collections.PathCollection at 0x1030c9668>"
      ]
     },
     "execution_count": 22,
     "metadata": {},
     "output_type": "execute_result"
    },
    {
     "data": {
      "image/png": "[encoded data removed]",
      "text/plain": [
       "<Figure size 432x288 with 1 Axes>"
      ]
     },
     "metadata": {
      "needs_background": "light"
     },
     "output_type": "display_data"
    }
   ],
   "source": [
    "plt.scatter(x,y)"
   ]
  },
  {
   "cell_type": "code",
   "execution_count": 23,
   "metadata": {},
   "outputs": [],
   "source": [
    "num_ratings_vs_movies = [0 for i in movie_dic.keys()]\n",
    "for (i, j, yij) in lst:\n",
    "    num_ratings_vs_movies[j] += 1\n",
    "num_ratings_vs_movies = np.array(num_ratings_vs_movies)"
   ]
  },
  {
   "cell_type": "code",
   "execution_count": 24,
   "metadata": {},
   "outputs": [],
   "source": [
    "indices = num_ratings_vs_movies.argsort()[-10:][::-1]"
   ]
  },
  {
   "cell_type": "code",
   "execution_count": 25,
   "metadata": {},
   "outputs": [
    {
     "data": {
      "text/plain": [
       "<matplotlib.collections.PathCollection at 0x103154f60>"
      ]
     },
     "execution_count": 25,
     "metadata": {},
     "output_type": "execute_result"
    },
    {
     "data": {
      "image/png": "[encoded data removed]",
      "text/plain": [
       "<Figure size 432x288 with 1 Axes>"
      ]
     },
     "metadata": {
      "needs_background": "light"
     },
     "output_type": "display_data"
    }
   ],
   "source": [
    "x = [transformed_v[i][0] for i in indices]\n",
    "y = [transformed_v[i][1] for i in indices]\n",
    "plt.scatter(x,y)"
   ]
  },
  {
   "cell_type": "code",
   "execution_count": 26,
   "metadata": {},
   "outputs": [
    {
     "ename": "ZeroDivisionError",
     "evalue": "division by zero",
     "output_type": "error",
     "traceback": [
      "\u001b[0;31m---------------------------------------------------------------------------\u001b[0m",
      "\u001b[0;31mZeroDivisionError\u001b[0m                         Traceback (most recent call last)",
      "\u001b[0;32m<ipython-input-26-2f1df29626d8>\u001b[0m in \u001b[0;36m<module>\u001b[0;34m\u001b[0m\n\u001b[1;32m      6\u001b[0m \u001b[0;34m\u001b[0m\u001b[0m\n\u001b[1;32m      7\u001b[0m avg_ratings = {movie: sum(movie_rating_dic[movie]) / len(movie_rating_dic[movie]) \\\n\u001b[0;32m----> 8\u001b[0;31m                for movie in movie_rating_dic}\n\u001b[0m\u001b[1;32m      9\u001b[0m \u001b[0;34m\u001b[0m\u001b[0m\n\u001b[1;32m     10\u001b[0m \u001b[0;31m# get ten best movies that received highest average rating\u001b[0m\u001b[0;34m\u001b[0m\u001b[0;34m\u001b[0m\u001b[0m\n",
      "\u001b[0;32m<ipython-input-26-2f1df29626d8>\u001b[0m in \u001b[0;36m<dictcomp>\u001b[0;34m(.0)\u001b[0m\n\u001b[1;32m      6\u001b[0m \u001b[0;34m\u001b[0m\u001b[0m\n\u001b[1;32m      7\u001b[0m avg_ratings = {movie: sum(movie_rating_dic[movie]) / len(movie_rating_dic[movie]) \\\n\u001b[0;32m----> 8\u001b[0;31m                for movie in movie_rating_dic}\n\u001b[0m\u001b[1;32m      9\u001b[0m \u001b[0;34m\u001b[0m\u001b[0m\n\u001b[1;32m     10\u001b[0m \u001b[0;31m# get ten best movies that received highest average rating\u001b[0m\u001b[0;34m\u001b[0m\u001b[0;34m\u001b[0m\u001b[0m\n",
      "\u001b[0;31mZeroDivisionError\u001b[0m: division by zero"
     ]
    }
   ],
   "source": [
    "movie_rating_dic = {id: [] for id in movie_dic.keys()} # dic of movie id and ratings\n",
    "\n",
    "for rating in lst:\n",
    "    _, movie_id, r = rating\n",
    "    movie_rating_dic[movie_id].append(r)\n",
    "\n",
    "avg_ratings = {movie: sum(movie_rating_dic[movie]) / len(movie_rating_dic[movie]) \\\n",
    "               for movie in movie_rating_dic}\n",
    "\n",
    "# get ten best movies that received highest average rating\n",
    "top_10 = sorted(avg_ratings.items(), key=lambda tup: tup[1], reverse=True)[:10]\n",
    "indices = [t[0] for t in top_10]"
   ]
  },
  {
   "cell_type": "code",
   "execution_count": null,
   "metadata": {},
   "outputs": [],
   "source": [
    "x = [transformed_v[i][0] for i in indices]\n",
    "y = [transformed_v[i][1] for i in indices]\n",
    "plt.scatter(x,y)"
   ]
  },
  {
   "cell_type": "code",
   "execution_count": null,
   "metadata": {},
   "outputs": [],
   "source": [
    "fant_movies = movie_genre_dic['Fantasy']\n",
    "indices = fant_movies[:10]\n",
    "x = [transformed_v[i][0] for i in indices]\n",
    "y = [transformed_v[i][1] for i in indices]\n",
    "plt.scatter(x,y)"
   ]
  },
  {
   "cell_type": "code",
   "execution_count": null,
   "metadata": {},
   "outputs": [],
   "source": [
    "fant_movies = movie_genre_dic['Documentary']\n",
    "indices = fant_movies[:10]\n",
    "x = [transformed_v[i][0] for i in indices]\n",
    "y = [transformed_v[i][1] for i in indices]\n",
    "plt.scatter(x,y)"
   ]
  },
  {
   "cell_type": "code",
   "execution_count": null,
   "metadata": {},
   "outputs": [],
   "source": [
    "fant_movies = movie_genre_dic[\"Children's\"]\n",
    "indices = fant_movies[:10]\n",
    "x = [transformed_v[i][0] for i in indices]\n",
    "y = [transformed_v[i][1] for i in indices]\n",
    "plt.scatter(x,y)"
   ]
  },
  {
   "cell_type": "code",
   "execution_count": null,
   "metadata": {},
   "outputs": [],
   "source": []
  }
 ],
 "metadata": {
  "kernelspec": {
   "display_name": "Python 3",
   "language": "python",
   "name": "python3"
  },
  "language_info": {
   "codemirror_mode": {
    "name": "ipython",
    "version": 3
   },
   "file_extension": ".py",
   "mimetype": "text/x-python",
   "name": "python",
   "nbconvert_exporter": "python",
   "pygments_lexer": "ipython3",
   "version": "3.6.4"
  }
 },
 "nbformat": 4,
 "nbformat_minor": 2
}
