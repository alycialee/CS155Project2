{
 "cells": [
  {
   "cell_type": "markdown",
   "metadata": {},
   "source": [
    "Off-the-shelf method using Surprise library from scikit for collaborative filtering.\n",
    "\n",
    "The Surprise library offers matrix factorization-based prediction algorithms such as SVD, SVD++, NMF."
   ]
  },
  {
   "cell_type": "code",
   "execution_count": 1,
   "metadata": {},
   "outputs": [],
   "source": [
    "import numpy as np\n",
    "import pickle\n",
    "import matplotlib.pyplot as plt\n",
    "from surprise import Dataset, evaluate, Reader, accuracy\n",
    "from surprise.prediction_algorithms import predictions, matrix_factorization\n",
    "from surprise.model_selection import cross_validate, GridSearchCV\n",
    "\n",
    "import time"
   ]
  },
  {
   "cell_type": "code",
   "execution_count": 2,
   "metadata": {},
   "outputs": [],
   "source": [
    "with open('data/new_files/get_movies.pkl', 'rb') as f:\n",
    "    t = pickle.load(f)\n",
    "    \n",
    "movie_dic = t[0]\n",
    "movie_genre_dic = t[1]\n",
    "\n",
    "with open('data/new_files/get_ratings.pkl', 'rb') as f:\n",
    "    lst = pickle.load(f)"
   ]
  },
  {
   "cell_type": "code",
   "execution_count": 3,
   "metadata": {},
   "outputs": [],
   "source": [
    "# load train and test data\n",
    "r = Reader(sep='\\t')\n",
    "train_data = Dataset.load_from_file('data/new_files/train.txt', reader=r)\n",
    "train_Y = train_data.build_full_trainset()\n",
    "\n",
    "test_data = Dataset.load_from_file('data/new_files/test.txt', reader=r)\n",
    "test_Y = test_data.build_full_trainset()\n",
    "test_data = test_Y.build_testset()"
   ]
  },
  {
   "cell_type": "code",
   "execution_count": 4,
   "metadata": {},
   "outputs": [
    {
     "name": "stdout",
     "output_type": "stream",
     "text": [
      "1551485793.2151148\n",
      "Processing epoch 0\n",
      "Processing epoch 1\n",
      "Processing epoch 2\n",
      "Processing epoch 3\n",
      "Processing epoch 4\n",
      "Processing epoch 5\n",
      "Processing epoch 6\n",
      "Processing epoch 7\n",
      "Processing epoch 8\n",
      "Processing epoch 9\n",
      "Processing epoch 10\n",
      "Processing epoch 11\n",
      "Processing epoch 12\n",
      "Processing epoch 13\n",
      "Processing epoch 14\n",
      "Processing epoch 15\n",
      "Processing epoch 16\n",
      "Processing epoch 17\n",
      "Processing epoch 18\n",
      "Processing epoch 19\n",
      "<surprise.prediction_algorithms.matrix_factorization.SVD object at 0x00000237D036FE10>\n",
      "1551485796.203355\n",
      "RMSE: 0.9315\n",
      "\n",
      "1551485796.3618798\n",
      " processing epoch 0\n",
      " processing epoch 1\n",
      " processing epoch 2\n",
      " processing epoch 3\n",
      " processing epoch 4\n",
      " processing epoch 5\n",
      " processing epoch 6\n",
      " processing epoch 7\n",
      " processing epoch 8\n",
      " processing epoch 9\n",
      " processing epoch 10\n",
      " processing epoch 11\n",
      " processing epoch 12\n",
      " processing epoch 13\n",
      " processing epoch 14\n",
      " processing epoch 15\n",
      " processing epoch 16\n",
      " processing epoch 17\n",
      " processing epoch 18\n",
      " processing epoch 19\n",
      "<surprise.prediction_algorithms.matrix_factorization.SVDpp object at 0x00000237D036FF28>\n",
      "1551486259.1232123\n",
      "RMSE: 0.9107\n",
      "\n",
      "1551486262.3574975\n",
      "Processing epoch 0\n",
      "Processing epoch 1\n",
      "Processing epoch 2\n",
      "Processing epoch 3\n",
      "Processing epoch 4\n",
      "Processing epoch 5\n",
      "Processing epoch 6\n",
      "Processing epoch 7\n",
      "Processing epoch 8\n",
      "Processing epoch 9\n",
      "Processing epoch 10\n",
      "Processing epoch 11\n",
      "Processing epoch 12\n",
      "Processing epoch 13\n",
      "Processing epoch 14\n",
      "Processing epoch 15\n",
      "Processing epoch 16\n",
      "Processing epoch 17\n",
      "Processing epoch 18\n",
      "Processing epoch 19\n",
      "Processing epoch 20\n",
      "Processing epoch 21\n",
      "Processing epoch 22\n",
      "Processing epoch 23\n",
      "Processing epoch 24\n",
      "Processing epoch 25\n",
      "Processing epoch 26\n",
      "Processing epoch 27\n",
      "Processing epoch 28\n",
      "Processing epoch 29\n",
      "Processing epoch 30\n",
      "Processing epoch 31\n",
      "Processing epoch 32\n",
      "Processing epoch 33\n",
      "Processing epoch 34\n",
      "Processing epoch 35\n",
      "Processing epoch 36\n",
      "Processing epoch 37\n",
      "Processing epoch 38\n",
      "Processing epoch 39\n",
      "Processing epoch 40\n",
      "Processing epoch 41\n",
      "Processing epoch 42\n",
      "Processing epoch 43\n",
      "Processing epoch 44\n",
      "Processing epoch 45\n",
      "Processing epoch 46\n",
      "Processing epoch 47\n",
      "Processing epoch 48\n",
      "Processing epoch 49\n",
      "<surprise.prediction_algorithms.matrix_factorization.NMF object at 0x00000237D036FFD0>\n",
      "1551486274.8659985\n",
      "RMSE: 1.1256\n",
      "\n"
     ]
    }
   ],
   "source": [
    "k = 20\n",
    "\n",
    "# SVD\n",
    "svd = matrix_factorization.SVD(n_factors=k, verbose=True)\n",
    "\n",
    "# SVD++ algorithm aka extension of SVD taking into account implicit ratings\n",
    "svdpp = matrix_factorization.SVDpp(n_factors=k, verbose=True)\n",
    "\n",
    "# Non-negative Matrix factorization\n",
    "nmf = matrix_factorization.NMF(n_factors=k, biased=True, verbose=True)\n",
    "\n",
    "# Fit and train, compute root mean square error\n",
    "for model in [svd, svdpp, nmf]:\n",
    "    print(time.time())\n",
    "    model.fit(train_Y)\n",
    "    print(model)\n",
    "    print(time.time())\n",
    "    accuracy.rmse(model.test(test_data)) # Then compute RMSE\n",
    "    print()\n",
    "    \n",
    "# Results: (SVD algo had best RMSE)\n",
    "# <surprise.prediction_algorithms.matrix_factorization.SVD object at 0x0000015C1957C240>\n",
    "# RMSE: 0.9291, epochs: 20, time=2.9882\n",
    "\n",
    "# <surprise.prediction_algorithms.matrix_factorization.SVDpp object at 0x0000015C1957C9E8>\n",
    "# RMSE: 0.9187, epochs: 20, time=462.76\n",
    "\n",
    "# <surprise.prediction_algorithms.matrix_factorization.NMF object at 0x0000015C1957CBE0>\n",
    "# RMSE: 1.1213, epochs: 50"
   ]
  },
  {
   "cell_type": "code",
   "execution_count": 5,
   "metadata": {},
   "outputs": [
    {
     "name": "stdout",
     "output_type": "stream",
     "text": [
      "Processing epoch 0\n",
      "Processing epoch 1\n",
      "Processing epoch 2\n",
      "Processing epoch 3\n",
      "Processing epoch 4\n",
      "Processing epoch 5\n",
      "Processing epoch 6\n",
      "Processing epoch 7\n",
      "Processing epoch 8\n",
      "Processing epoch 9\n",
      "Processing epoch 10\n",
      "Processing epoch 11\n",
      "Processing epoch 12\n",
      "Processing epoch 13\n",
      "Processing epoch 14\n",
      "Processing epoch 15\n",
      "Processing epoch 16\n",
      "Processing epoch 17\n",
      "Processing epoch 18\n",
      "Processing epoch 19\n",
      "RMSE: 0.9543\n"
     ]
    },
    {
     "data": {
      "text/plain": [
       "0.9542516961400818"
      ]
     },
     "execution_count": 5,
     "metadata": {},
     "output_type": "execute_result"
    }
   ],
   "source": [
    "k = 20\n",
    "eta = 0.001\n",
    "reg = 0.1\n",
    "\n",
    "model = matrix_factorization.SVD(n_factors=k, lr_all=eta, reg_all=reg, verbose=True)\n",
    "model.fit(train_Y)\n",
    "accuracy.rmse(model.test(test_data)) # epochs: 19, RMSE: 0.9510756520444057 on predictions"
   ]
  },
  {
   "cell_type": "code",
   "execution_count": 6,
   "metadata": {},
   "outputs": [],
   "source": [
    "'''\n",
    "This function performs matrix factorization.\n",
    "Input:\n",
    "    Y_train: training labels\n",
    "    test_set: test set\n",
    "Output: \n",
    "    newU: The 2D version of U\n",
    "    newV: The 2D version of V\n",
    "'''\n",
    "def matrix_factor(model, train_Y):\n",
    "    \"\"\" Uses matrix factorization-based algorithm SVD++\n",
    "    and returns U (k x m matrix) and V (k x n matrix)\n",
    "    where k in the number of factors of the model. \"\"\"    \n",
    "    # get user factors\n",
    "    U = model.pu    \n",
    "    print(\"U shape: \" + str(U.shape)) # (m, k) = (943, 20)\n",
    "\n",
    "    # transpose item factors\n",
    "    V = np.transpose(model.qi)    \n",
    "    print(\"V shape: \" + str(V.shape)) # (k, n) = (20, 1682)\n",
    "    \n",
    "    return U, V\n",
    "    \n",
    "def SVD(U, V):\n",
    "    \"\"\" Applies SVD to V and uses the ﬁrst two columns of A\n",
    "    to project U,V into 2-D space. \"\"\"    \n",
    "    # get A matrix\n",
    "    A, _, _ = np.linalg.svd(V) \n",
    "    # take first two columns of A\n",
    "    A = A[:, [0, 1]] # (k, 2) = (5, 2)\n",
    "    print(\"A shape: \" + str(A.shape))\n",
    "\n",
    "    # project U into 2-D space\n",
    "    U_tilda = np.transpose(np.dot(np.transpose(A), np.transpose(U)))\n",
    "    print(\"U shape: \" + str(U_tilda.shape)) # (943, 2)\n",
    "\n",
    "    # project V into 2-D space\n",
    "    V_tilda = np.transpose(np.dot(np.transpose(A), V))\n",
    "    print(\"V shape: \" + str(V_tilda.shape)) # (1682, 2)\n",
    "\n",
    "    return U_tilda, V_tilda"
   ]
  },
  {
   "cell_type": "code",
   "execution_count": 7,
   "metadata": {},
   "outputs": [
    {
     "name": "stdout",
     "output_type": "stream",
     "text": [
      "U shape: (943, 20)\n",
      "V shape: (20, 1668)\n"
     ]
    }
   ],
   "source": [
    "U, V = matrix_factor(model, train_Y)"
   ]
  },
  {
   "cell_type": "code",
   "execution_count": 8,
   "metadata": {},
   "outputs": [
    {
     "name": "stdout",
     "output_type": "stream",
     "text": [
      "A shape: (20, 2)\n",
      "U shape: (943, 2)\n",
      "V shape: (1668, 2)\n"
     ]
    }
   ],
   "source": [
    "U_tilda, V_tilda = SVD(U, V)"
   ]
  },
  {
   "cell_type": "code",
   "execution_count": 9,
   "metadata": {},
   "outputs": [],
   "source": [
    "with open(\"matrices/surprise_best_model_eta_{}_reg_{}_epoch_{}_testerr_{}.matrix\".format(eta, reg, 20, 0.9543), \"wb+\") as f:\n",
    "    np.save(f, V_tilda)"
   ]
  },
  {
   "cell_type": "markdown",
   "metadata": {},
   "source": [
    "# visualizations"
   ]
  },
  {
   "cell_type": "code",
   "execution_count": null,
   "metadata": {},
   "outputs": [],
   "source": [
    "indices = np.random.randint(1668, size=10)"
   ]
  },
  {
   "cell_type": "code",
   "execution_count": null,
   "metadata": {},
   "outputs": [],
   "source": [
    "x = [V_tilda[i][0] for i in indices]\n",
    "y = [V_tilda[i][1] for i in indices]"
   ]
  },
  {
   "cell_type": "code",
   "execution_count": null,
   "metadata": {},
   "outputs": [],
   "source": [
    "plt.scatter(x,y)\n",
    "for i, (xi, yi) in enumerate(zip(x, y)):\n",
    "    plt.annotate(movie_dic[indices[i]], (xi, yi))"
   ]
  },
  {
   "cell_type": "code",
   "execution_count": null,
   "metadata": {},
   "outputs": [],
   "source": [
    "num_ratings_vs_movies = [0 for i in movie_dic.keys()]\n",
    "for (i, j, yij) in lst:\n",
    "    num_ratings_vs_movies[j] += 1\n",
    "num_ratings_vs_movies = np.array(num_ratings_vs_movies)"
   ]
  },
  {
   "cell_type": "code",
   "execution_count": null,
   "metadata": {},
   "outputs": [],
   "source": [
    "indices = num_ratings_vs_movies.argsort()[-10:][::-1]"
   ]
  },
  {
   "cell_type": "code",
   "execution_count": null,
   "metadata": {},
   "outputs": [],
   "source": [
    "x = [V_tilda[i][0] for i in indices]\n",
    "y = [V_tilda[i][1] for i in indices]\n",
    "plt.scatter(x,y)\n",
    "\n",
    "for i, (xi, yi) in enumerate(zip(x, y)):\n",
    "    plt.annotate(movie_dic[indices[i]], (xi, yi))"
   ]
  },
  {
   "cell_type": "code",
   "execution_count": null,
   "metadata": {},
   "outputs": [],
   "source": [
    "movie_rating_dic = {id: [] for id in movie_dic.keys()} # dic of movie id and ratings\n",
    "\n",
    "for rating in lst:\n",
    "    _, movie_id, r = rating\n",
    "    movie_rating_dic[movie_id].append(r)\n",
    "\n",
    "avg_ratings = {movie: sum(movie_rating_dic[movie]) / len(movie_rating_dic[movie]) \\\n",
    "               for movie in movie_rating_dic}\n",
    "\n",
    "# get ten best movies that received highest average rating\n",
    "top_10 = sorted(avg_ratings.items(), key=lambda tup: tup[1], reverse=True)[:10]\n",
    "indices = [t[0] for t in top_10]"
   ]
  },
  {
   "cell_type": "code",
   "execution_count": null,
   "metadata": {},
   "outputs": [],
   "source": [
    "x = [V_tilda[i][0] for i in indices]\n",
    "y = [V_tilda[i][1] for i in indices]\n",
    "plt.scatter(x,y)\n",
    "for i, (xi, yi) in enumerate(zip(x, y)):\n",
    "    plt.annotate(movie_dic[indices[i]], (xi, yi))"
   ]
  },
  {
   "cell_type": "code",
   "execution_count": null,
   "metadata": {},
   "outputs": [],
   "source": [
    "fant_movies = movie_genre_dic['Fantasy']\n",
    "indices = fant_movies[:10]\n",
    "x = [V_tilda[i][0] for i in indices]\n",
    "y = [V_tilda[i][1] for i in indices]\n",
    "plt.scatter(x,y)\n",
    "\n",
    "for i, (xi, yi) in enumerate(zip(x, y)):\n",
    "    plt.annotate(movie_dic[indices[i]], (xi, yi))"
   ]
  },
  {
   "cell_type": "code",
   "execution_count": null,
   "metadata": {},
   "outputs": [],
   "source": [
    "fant_movies = movie_genre_dic['Documentary']\n",
    "indices = fant_movies[:10]\n",
    "print(indices)\n",
    "x = [V_tilda[i][0] for i in indices]\n",
    "y = [V_tilda[i][1] for i in indices]\n",
    "plt.scatter(x,y)\n",
    "\n",
    "for i, (xi, yi) in enumerate(zip(x, y)):\n",
    "    plt.annotate(movie_dic[indices[i]], (xi, yi))"
   ]
  },
  {
   "cell_type": "code",
   "execution_count": null,
   "metadata": {},
   "outputs": [],
   "source": [
    "fant_movies = movie_genre_dic[\"Children's\"]\n",
    "indices = fant_movies[:10]\n",
    "x = [V_tilda[i][0] for i in indices]\n",
    "y = [V_tilda[i][1] for i in indices]\n",
    "plt.scatter(x,y)\n",
    "\n",
    "for i, (xi, yi) in enumerate(zip(x, y)):\n",
    "    plt.annotate(movie_dic[indices[i]], (xi, yi))"
   ]
  },
  {
   "cell_type": "code",
   "execution_count": null,
   "metadata": {},
   "outputs": [],
   "source": [
    "fant_movies = movie_genre_dic[\"Children's\"]\n",
    "indices = fant_movies[:10]\n",
    "print(indices)\n",
    "x = [V_tilda[i][0] for i in indices]\n",
    "y = [V_tilda[i][1] for i in indices]\n",
    "plt.scatter(x,y)\n",
    "\n",
    "for i, (xi, yi) in enumerate(zip(x, y)):\n",
    "    plt.annotate(movie_dic[indices[i]], (xi, yi))"
   ]
  },
  {
   "cell_type": "code",
   "execution_count": null,
   "metadata": {},
   "outputs": [],
   "source": []
  }
 ],
 "metadata": {
  "kernelspec": {
   "display_name": "Python 3",
   "language": "python",
   "name": "python3"
  },
  "language_info": {
   "codemirror_mode": {
    "name": "ipython",
    "version": 3
   },
   "file_extension": ".py",
   "mimetype": "text/x-python",
   "name": "python",
   "nbconvert_exporter": "python",
   "pygments_lexer": "ipython3",
   "version": "3.7.1"
  }
 },
 "nbformat": 4,
 "nbformat_minor": 2
}
