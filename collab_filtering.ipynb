{
 "cells": [
  {
   "cell_type": "markdown",
   "metadata": {},
   "source": [
    "Off-the-shelf method using Surprise library from scikit for collaborative filtering.\n",
    "\n",
    "The Surprise library offers matrix factorization-based prediction algorithms such as SVD, SVD++, NMF."
   ]
  },
  {
   "cell_type": "code",
   "execution_count": 1,
   "metadata": {},
   "outputs": [],
   "source": [
    "import numpy as np\n",
    "from surprise import Dataset, evaluate, Reader, accuracy\n",
    "from surprise.prediction_algorithms import predictions, matrix_factorization\n",
    "from surprise.model_selection import cross_validate, GridSearchCV"
   ]
  },
  {
   "cell_type": "code",
   "execution_count": 2,
   "metadata": {},
   "outputs": [],
   "source": [
    "# load train and test data\n",
    "r = Reader(sep='\\t')\n",
    "train_data = Dataset.load_from_file('data/train_new.txt', reader=r)\n",
    "train_Y = train_data.build_full_trainset()\n",
    "\n",
    "test_data = Dataset.load_from_file('data/test.txt', reader=r)\n",
    "test_Y = test_data.build_full_trainset()\n",
    "test_data = test_Y.build_testset()"
   ]
  },
  {
   "cell_type": "code",
   "execution_count": null,
   "metadata": {},
   "outputs": [],
   "source": [
    "# SVD\n",
    "svd = matrix_factorization.SVD()\n",
    "\n",
    "# SVD++ algorithm aka extension of SVD taking into account implicit ratings\n",
    "svdpp = matrix_factorization.SVDpp()\n",
    "\n",
    "# Non-negative Matrix factorization\n",
    "nmf = matrix_factorization.NMF()\n",
    "\n",
    "# Fit and train, compute root mean square error\n",
    "for model in [svd, svdpp, nmf]:\n",
    "    model.fit(train_Y)\n",
    "    print(model)\n",
    "    accuracy.rmse(model.test(test_data)) # Then compute RMSE\n",
    "    print()\n",
    "    \n",
    "# Results: (SVD++ algo had best RMSE)\n",
    "# <surprise.prediction_algorithms.matrix_factorization.SVD object at 0x0000015C1957C240>\n",
    "# RMSE: 0.9316\n",
    "\n",
    "# <surprise.prediction_algorithms.matrix_factorization.SVDpp object at 0x0000015C1957C9E8>\n",
    "# RMSE: 0.9098\n",
    "\n",
    "# <surprise.prediction_algorithms.matrix_factorization.NMF object at 0x0000015C1957CBE0>\n",
    "# RMSE: 0.9566"
   ]
  },
  {
   "cell_type": "code",
   "execution_count": 3,
   "metadata": {},
   "outputs": [
    {
     "name": "stdout",
     "output_type": "stream",
     "text": [
      " processing epoch 0\n",
      " processing epoch 1\n",
      " processing epoch 2\n",
      " processing epoch 3\n",
      " processing epoch 4\n",
      " processing epoch 5\n",
      " processing epoch 6\n",
      " processing epoch 7\n",
      " processing epoch 8\n",
      " processing epoch 9\n",
      " processing epoch 10\n",
      " processing epoch 11\n",
      " processing epoch 12\n",
      " processing epoch 13\n",
      " processing epoch 14\n",
      " processing epoch 15\n",
      " processing epoch 16\n",
      " processing epoch 17\n",
      " processing epoch 18\n",
      " processing epoch 19\n",
      "RMSE: 0.9639\n"
     ]
    },
    {
     "data": {
      "text/plain": [
       "0.9639059164365897"
      ]
     },
     "execution_count": 3,
     "metadata": {},
     "output_type": "execute_result"
    }
   ],
   "source": [
    "k = 20\n",
    "eta = 0.1\n",
    "reg = 0.1\n",
    "\n",
    "model = matrix_factorization.SVDpp(n_factors=k, lr_all=eta, reg_all=reg, verbose=True)\n",
    "model.fit(train_Y)\n",
    "accuracy.rmse(model.test(test_data)) # epochs: 19, RMSE: 0.9639059164365897 on predictions"
   ]
  },
  {
   "cell_type": "code",
   "execution_count": 9,
   "metadata": {},
   "outputs": [],
   "source": [
    "'''\n",
    "This function performs matrix factorization.\n",
    "Input:\n",
    "    Y_train: training labels\n",
    "    test_set: test set\n",
    "Output: \n",
    "    newU: The 2D version of U\n",
    "    newV: The 2D version of V\n",
    "'''\n",
    "def matrix_factor(model, train_Y):\n",
    "    \"\"\" Uses matrix factorization-based algorithm SVD++\n",
    "    and returns U (k x m matrix) and V (k x n matrix)\n",
    "    where k in the number of factors of the model. \"\"\"    \n",
    "    # get user factors\n",
    "    U = model.pu    \n",
    "    print(\"U shape: \" + str(U.shape)) # (m, k) = (943, 20)\n",
    "\n",
    "    # transpose item factors\n",
    "    V = np.transpose(model.qi)    \n",
    "    print(\"V shape: \" + str(V.shape)) # (k, n) = (20, 1682)\n",
    "    \n",
    "    return U, V\n",
    "    \n",
    "def SVD(U, V):\n",
    "    \"\"\" Applies SVD to V and uses the ﬁrst two columns of A\n",
    "    to project U,V into 2-D space. \"\"\"    \n",
    "    # get A matrix\n",
    "    A, _, _ = np.linalg.svd(V) \n",
    "    # take first two columns of A\n",
    "    A = A[:, [0, 1]] # (k, 2) = (5, 2)\n",
    "    print(\"A shape: \" + str(A.shape))\n",
    "\n",
    "    # project U into 2-D space\n",
    "    U_tilda = np.transpose(np.dot(np.transpose(A), np.transpose(U)))\n",
    "    print(\"U shape: \" + str(U_tilda.shape)) # (943, 2)\n",
    "\n",
    "    # project V into 2-D space\n",
    "    V_tilda = np.transpose(np.dot(np.transpose(A), V))\n",
    "    print(\"V shape: \" + str(V_tilda.shape)) # (1682, 2)\n",
    "\n",
    "    return U_tilda, V_tilda"
   ]
  },
  {
   "cell_type": "code",
   "execution_count": 12,
   "metadata": {},
   "outputs": [
    {
     "name": "stdout",
     "output_type": "stream",
     "text": [
      "U shape: (943, 20)\n",
      "V shape: (20, 1682)\n"
     ]
    }
   ],
   "source": [
    "U, V = matrix_factor(model, train_Y)"
   ]
  },
  {
   "cell_type": "code",
   "execution_count": 13,
   "metadata": {},
   "outputs": [
    {
     "name": "stdout",
     "output_type": "stream",
     "text": [
      "A shape: (20, 2)\n",
      "U shape: (943, 2)\n",
      "V shape: (1682, 2)\n"
     ]
    }
   ],
   "source": [
    "U_tilda, V_tilda = SVD(U, V)"
   ]
  },
  {
   "cell_type": "code",
   "execution_count": 41,
   "metadata": {},
   "outputs": [],
   "source": [
    "def get_err(U, V, Y, A, B, y_mean, reg=0.0):\n",
    "    \"\"\"\n",
    "    Takes as input a matrix Y of triples (i, j, Y_ij) where i is the index of a user,\n",
    "    j is the index of a movie, and Y_ij is user i's rating of movie j and\n",
    "    user/movie matrices U and V.\n",
    "\n",
    "    Returns the mean regularized squared-error of predictions made by\n",
    "    estimating Y_{ij} as the dot product of the ith row of U and the jth column of V^T.\n",
    "    \"\"\"\n",
    "    # Compute mean squared error on each data point in Y; include\n",
    "    # regularization penalty in error calculations.\n",
    "    # We first compute the total squared squared error\n",
    "    err = 0.0\n",
    "    for (i,j,Yij) in Y:\n",
    "        err += 0.5 *(Yij - y_mean - np.dot(U[i-1], V[:,j-1]) - A[i-1] - B[:,j-1])**2\n",
    "    # Add error penalty due to regularization if regularization\n",
    "    # parameter is nonzero\n",
    "    if reg != 0:\n",
    "        U_frobenius_norm = np.linalg.norm(U, ord='fro')\n",
    "        V_frobenius_norm = np.linalg.norm(V, ord='fro')\n",
    "        A_frobenius_norm = np.linalg.norm(A, ord='fro')\n",
    "        B_frobenius_norm = np.linalg.norm(B, ord='fro')\n",
    "        err += 0.5 * reg * (U_frobenius_norm ** 2)\n",
    "        err += 0.5 * reg * (V_frobenius_norm ** 2)\n",
    "        err += 0.5 * reg * (A_frobenius_norm ** 2)\n",
    "        err += 0.5 * reg * (B_frobenius_norm ** 2)\n",
    "    # Return the mean of the regularized error\n",
    "    return err / float(len(Y))"
   ]
  },
  {
   "cell_type": "code",
   "execution_count": 16,
   "metadata": {},
   "outputs": [],
   "source": [
    "Y_train = np.loadtxt('data/train.txt').astype(int)\n",
    "y_mean = np.mean(np.array([tup[2] for tup in Y_train]))"
   ]
  },
  {
   "cell_type": "code",
   "execution_count": 35,
   "metadata": {},
   "outputs": [],
   "source": [
    "model.bu = model.bu.reshape(943,1)\n",
    "model.bi = model.bi.reshape(1682,1)"
   ]
  },
  {
   "cell_type": "code",
   "execution_count": 39,
   "metadata": {},
   "outputs": [
    {
     "data": {
      "text/plain": [
       "(1, 1682)"
      ]
     },
     "execution_count": 39,
     "metadata": {},
     "output_type": "execute_result"
    }
   ],
   "source": [
    "np.transpose(model.bi).shape"
   ]
  },
  {
   "cell_type": "code",
   "execution_count": 42,
   "metadata": {},
   "outputs": [],
   "source": [
    "err = get_err(U, V, Y_train, model.bu, np.transpose(model.bi), y_mean, reg=0.1)"
   ]
  },
  {
   "cell_type": "code",
   "execution_count": 43,
   "metadata": {},
   "outputs": [
    {
     "data": {
      "text/plain": [
       "array([0.84054055])"
      ]
     },
     "execution_count": 43,
     "metadata": {},
     "output_type": "execute_result"
    }
   ],
   "source": [
    "err"
   ]
  },
  {
   "cell_type": "code",
   "execution_count": null,
   "metadata": {},
   "outputs": [],
   "source": []
  }
 ],
 "metadata": {
  "kernelspec": {
   "display_name": "Python 3",
   "language": "python",
   "name": "python3"
  },
  "language_info": {
   "codemirror_mode": {
    "name": "ipython",
    "version": 3
   },
   "file_extension": ".py",
   "mimetype": "text/x-python",
   "name": "python",
   "nbconvert_exporter": "python",
   "pygments_lexer": "ipython3",
   "version": "3.7.1"
  }
 },
 "nbformat": 4,
 "nbformat_minor": 2
}
