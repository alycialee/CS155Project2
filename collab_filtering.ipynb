{
 "cells": [
  {
   "cell_type": "markdown",
   "metadata": {},
   "source": [
    "Off-the-shelf method using Surprise library from scikit for collaborative filtering.\n",
    "\n",
    "The Surprise library offers matrix factorization-based prediction algorithms such as SVD, SVD++, NMF."
   ]
  },
  {
   "cell_type": "code",
   "execution_count": 1,
   "metadata": {},
   "outputs": [],
   "source": [
    "import numpy as np\n",
    "from surprise import Dataset, evaluate, Reader, accuracy\n",
    "from surprise.prediction_algorithms import predictions, matrix_factorization\n",
    "from surprise.model_selection import cross_validate, GridSearchCV"
   ]
  },
  {
   "cell_type": "code",
   "execution_count": 2,
   "metadata": {},
   "outputs": [],
   "source": [
    "# load train and test data\n",
    "r = Reader(sep='\\t')\n",
    "train_data = Dataset.load_from_file('data/train.txt', reader=r)\n",
    "train_Y = train_data.build_full_trainset()\n",
    "\n",
    "test_data = Dataset.load_from_file('data/test.txt', reader=r)\n",
    "test_Y = test_data.build_full_trainset()\n",
    "test_data = test_Y.build_testset()"
   ]
  },
  {
   "cell_type": "code",
   "execution_count": null,
   "metadata": {},
   "outputs": [],
   "source": [
    "# SVD\n",
    "svd = matrix_factorization.SVD()\n",
    "\n",
    "# SVD++ algorithm aka extension of SVD taking into account implicit ratings\n",
    "svdpp = matrix_factorization.SVDpp()\n",
    "\n",
    "# Non-negative Matrix factorization\n",
    "nmf = matrix_factorization.NMF()\n",
    "\n",
    "# Fit and train, compute root mean square error\n",
    "for model in [svd, svdpp, nmf]:\n",
    "    model.fit(train_Y)\n",
    "    print(model)\n",
    "    accuracy.rmse(model.test(test_data)) # Then compute RMSE\n",
    "    print()\n",
    "    \n",
    "# Results: (SVD++ algo had best RMSE)\n",
    "# <surprise.prediction_algorithms.matrix_factorization.SVD object at 0x0000015C1957C240>\n",
    "# RMSE: 0.9316\n",
    "\n",
    "# <surprise.prediction_algorithms.matrix_factorization.SVDpp object at 0x0000015C1957C9E8>\n",
    "# RMSE: 0.9098\n",
    "\n",
    "# <surprise.prediction_algorithms.matrix_factorization.NMF object at 0x0000015C1957CBE0>\n",
    "# RMSE: 0.9566"
   ]
  },
  {
   "cell_type": "code",
   "execution_count": null,
   "metadata": {},
   "outputs": [],
   "source": [
    "# Use Grid Search to find best parameters for SVD++ algorithm\n",
    "params = {'n_factors': [5, 10, 20, 40, 50], 'n_epochs': [5, 10, 20, 40]}\n",
    "\n",
    "# 3 fold cross val used\n",
    "grid = GridSearchCV(matrix_factorization.SVDpp, params, measures=['rmse', 'mae'], cv=3)\n",
    "grid.fit(train_Y)"
   ]
  },
  {
   "cell_type": "code",
   "execution_count": null,
   "metadata": {},
   "outputs": [],
   "source": [
    "print(grid.best_score['rmse']) # RMSE: 0.9296894324594304\n",
    "print(grid.best_params['rmse']) # {'n_factors': 5, 'n_epochs': 20}"
   ]
  },
  {
   "cell_type": "code",
   "execution_count": null,
   "metadata": {},
   "outputs": [],
   "source": [
    "# train model with best params\n",
    "model = matrix_factorization.SVDpp(n_factors=5, n_epochs=20)\n",
    "model.fit(train_Y)\n",
    "accuracy.rmse(model.test(test_data)) # RMSE: 0.9201790944404813"
   ]
  },
  {
   "cell_type": "code",
   "execution_count": 3,
   "metadata": {},
   "outputs": [],
   "source": [
    "'''\n",
    "This function performs matrix factorization.\n",
    "Input:\n",
    "    Y_train: training labels\n",
    "    test_set: test set\n",
    "Output: \n",
    "    newU: The 2D version of U\n",
    "    newV: The 2D version of V\n",
    "'''\n",
    "def matrix_factor(train_Y):\n",
    "    \"\"\" Uses matrix factorization-based algorithm SVD++\n",
    "    and returns U (k x m matrix) and V (k x n matrix)\n",
    "    where k in the number of factors of the model. \"\"\"\n",
    "    # train/fit model\n",
    "    model = matrix_factorization.SVDpp(n_factors=5, n_epochs=20)\n",
    "    model.fit(train_Y)\n",
    "    \n",
    "    # transpose user factors\n",
    "    U = np.transpose(model.pu)    \n",
    "    print(\"U shape: \" + str(U.shape)) # k x m = 5 x 943\n",
    "    \n",
    "    # transpose item factors\n",
    "    V = np.transpose(model.qi)    \n",
    "    print(\"V shape: \" + str(V.shape)) # k x n = 5 x 1682\n",
    "    \n",
    "    return U,V\n",
    "    \n",
    "def SVD(U, V):\n",
    "    \"\"\" Applies SVD to V and uses the ﬁrst two columns of A\n",
    "    to project U,V into 2-D space. \"\"\"    \n",
    "    # get A matrix\n",
    "    A, _, _ = np.linalg.svd(V) \n",
    "    # take first two columns of A\n",
    "    A = A[:, [0, 1]] # k x 2: 5 x 2\n",
    "    print(\"A shape: \" + str(A.shape))\n",
    "    \n",
    "    # project U into 2-D space\n",
    "    U_tilda = np.dot(np.transpose(A), U)\n",
    "    print(\"U shape: \" + str(U_tilda.shape)) # 2 x 943\n",
    "    \n",
    "    # project V into 2-D space\n",
    "    V_tilda = np.dot(np.transpose(A), V)\n",
    "    print(\"V shape: \" + str(V_tilda.shape)) # 2 x 1668\n",
    "\n",
    "    return U_tilda, V_tilda"
   ]
  },
  {
   "cell_type": "code",
   "execution_count": 4,
   "metadata": {},
   "outputs": [
    {
     "name": "stdout",
     "output_type": "stream",
     "text": [
      "U shape: (5, 943)\n",
      "V shape: (5, 1668)\n"
     ]
    }
   ],
   "source": [
    "U, V = matrix_factor(train_Y)"
   ]
  },
  {
   "cell_type": "code",
   "execution_count": 5,
   "metadata": {},
   "outputs": [
    {
     "name": "stdout",
     "output_type": "stream",
     "text": [
      "A shape: (5, 2)\n",
      "U shape: (2, 943)\n",
      "V shape: (2, 1668)\n"
     ]
    }
   ],
   "source": [
    "U_tilda, V_tilda = SVD(U, V)"
   ]
  },
  {
   "cell_type": "code",
   "execution_count": null,
   "metadata": {},
   "outputs": [],
   "source": []
  }
 ],
 "metadata": {
  "kernelspec": {
   "display_name": "Python 3",
   "language": "python",
   "name": "python3"
  },
  "language_info": {
   "codemirror_mode": {
    "name": "ipython",
    "version": 3
   },
   "file_extension": ".py",
   "mimetype": "text/x-python",
   "name": "python",
   "nbconvert_exporter": "python",
   "pygments_lexer": "ipython3",
   "version": "3.7.1"
  }
 },
 "nbformat": 4,
 "nbformat_minor": 2
}
