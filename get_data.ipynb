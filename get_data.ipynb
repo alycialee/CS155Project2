{
 "cells": [
  {
   "cell_type": "markdown",
   "metadata": {},
   "source": [
    "Import data from movies.txt and data.txt"
   ]
  },
  {
   "cell_type": "code",
   "execution_count": 1,
   "metadata": {},
   "outputs": [],
   "source": [
    "import pickle"
   ]
  },
  {
   "cell_type": "code",
   "execution_count": 2,
   "metadata": {},
   "outputs": [],
   "source": [
    "genre =  ['Unknown', 'Action', 'Adventure', 'Animation',\n",
    "           \"Children's\", 'Comedy', 'Crime', 'Documentary',\n",
    "           'Drama', 'Fantasy', 'Film-Noir', 'Horror', \n",
    "           'Musical', 'Mystery', 'Romance', 'Sci-Fi', \n",
    "           'Thriller', 'War', 'Western']\n",
    "\n",
    "genre_dic = {}\n",
    "\n",
    "for i in range(len(genre)):\n",
    "    genre_dic[genre[i]] = i"
   ]
  },
  {
   "cell_type": "code",
   "execution_count": 3,
   "metadata": {},
   "outputs": [],
   "source": [
    "def get_movies():\n",
    "    \"\"\" Extracts data from movies.txt.\n",
    "    \n",
    "    Returns dictionary of movie IDs and movie titles, and\n",
    "    dictionary of movie genres and movie IDs. \"\"\"\n",
    "    movie_dic, movie_genre_dic = {}, {g: [] for g in genre}\n",
    "    \n",
    "    with open(\"data/movies.txt\") as f:\n",
    "        for line in f:\n",
    "            data = line.strip(\"\\n\").split(\"\\t\")\n",
    "            id = int(data[0]) - 1\n",
    "            movie_dic[id] = data[1]\n",
    "            for gen in genre:\n",
    "                ind = genre_dic[gen]\n",
    "                if data[2:][ind] == '1':\n",
    "                    movie_genre_dic[gen].append(id)\n",
    "                    \n",
    "    with open('get_movies.pkl', 'wb') as f:\n",
    "        pickle.dump((movie_dic, movie_genre_dic), f)"
   ]
  },
  {
   "cell_type": "code",
   "execution_count": 4,
   "metadata": {},
   "outputs": [],
   "source": [
    "get_movies()"
   ]
  },
  {
   "cell_type": "code",
   "execution_count": 5,
   "metadata": {},
   "outputs": [],
   "source": [
    "def get_ratings():\n",
    "    \"\"\" Extracts data from data.txt\n",
    "    \n",
    "    Returns list of (user id, movie id, rating). \"\"\"\n",
    "    \n",
    "    lst = []\n",
    "        \n",
    "    with open(\"data/data.txt\") as f:\n",
    "        for line in f:\n",
    "            data = line.strip(\"\\n\").split(\"\\t\")\n",
    "            user_id = int(data[0]) - 1\n",
    "            movie_id = int(data[1]) - 1\n",
    "            rate = float(data[2])\n",
    "            \n",
    "            lst.append((user_id, movie_id, rate))\n",
    "    \n",
    "    with open('get_ratings.pkl', 'wb') as f:\n",
    "        pickle.dump(lst, f)"
   ]
  },
  {
   "cell_type": "code",
   "execution_count": 6,
   "metadata": {},
   "outputs": [],
   "source": [
    "get_ratings()"
   ]
  },
  {
   "cell_type": "code",
   "execution_count": null,
   "metadata": {},
   "outputs": [],
   "source": []
  }
 ],
 "metadata": {
  "kernelspec": {
   "display_name": "Python 3",
   "language": "python",
   "name": "python3"
  },
  "language_info": {
   "codemirror_mode": {
    "name": "ipython",
    "version": 3
   },
   "file_extension": ".py",
   "mimetype": "text/x-python",
   "name": "python",
   "nbconvert_exporter": "python",
   "pygments_lexer": "ipython3",
   "version": "3.6.8"
  }
 },
 "nbformat": 4,
 "nbformat_minor": 2
}
