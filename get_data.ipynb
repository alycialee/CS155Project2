{
 "cells": [
  {
   "cell_type": "markdown",
   "metadata": {},
   "source": [
    "Import data from movies.txt and data.txt"
   ]
  },
  {
   "cell_type": "code",
   "execution_count": 1,
   "metadata": {},
   "outputs": [],
   "source": [
    "import pickle"
   ]
  },
  {
   "cell_type": "code",
   "execution_count": 2,
   "metadata": {},
   "outputs": [],
   "source": [
    "genre =  ['Unknown', 'Action', 'Adventure', 'Animation',\n",
    "           \"Children's\", 'Comedy', 'Crime', 'Documentary',\n",
    "           'Drama', 'Fantasy', 'Film-Noir', 'Horror', \n",
    "           'Musical', 'Mystery', 'Romance', 'Sci-Fi', \n",
    "           'Thriller', 'War', 'Western']\n",
    "\n",
    "genre_dic = {}\n",
    "\n",
    "for i in range(len(genre)):\n",
    "    genre_dic[genre[i]] = i"
   ]
  },
  {
   "cell_type": "code",
   "execution_count": 3,
   "metadata": {},
   "outputs": [],
   "source": [
    "def clean_up_movie_files():\n",
    "    remapping = {}\n",
    "    \n",
    "    disabled_movies = [1349,1363,1458,1541,1541,1561,1576,1579,1581,1606,1633,1651,1666,1667,1678]\n",
    "    with open(\"data/new_files/movies.txt\", \"w+\") as out:\n",
    "        with open(\"data/raw_data/movies.txt\", encoding='latin-1') as f:\n",
    "            next_index = 1\n",
    "            \n",
    "            for line in f:\n",
    "                data = line.strip(\"\\n\").split(\"\\t\")\n",
    "                id = int(data[0])\n",
    "                \n",
    "                if id not in disabled_movies:\n",
    "                    remapping[id] = next_index\n",
    "                    data[0] = str(next_index)\n",
    "                    line = \"\\t\".join(data) + \"\\n\"\n",
    "                    out.write(line)\n",
    "                    next_index += 1\n",
    "                    \n",
    "    with open(\"data/new_files/movies.txt\", \"r\") as check:\n",
    "        count = 0\n",
    "        for line in check:\n",
    "            data = line.strip(\"\\n\").split(\"\\t\")\n",
    "            id = int(data[0])\n",
    "            assert id == count + 1\n",
    "            count = id\n",
    "            \n",
    "    with open(\"data/new_files/data.txt\", \"w+\") as out:\n",
    "        with open(\"data/raw_data/data.txt\", \"r\") as f:\n",
    "            for line in f:\n",
    "                data = line.strip(\"\\n\").split(\"\\t\")\n",
    "                \n",
    "                user = int(data[0])\n",
    "                movie = int(data[1])\n",
    "                rating = int(data[2])\n",
    "                \n",
    "                if movie in remapping:\n",
    "                    movie = remapping[movie]\n",
    "                    out.write(\"{}\\t{}\\t{}\\n\".format(user, movie, rating))\n",
    "                    \n",
    "    with open(\"data/new_files/data.txt\", \"r\") as check:\n",
    "        for line in check:\n",
    "            data = line.strip(\"\\n\").split(\"\\t\")\n",
    "            \n",
    "            assert data[1] not in disabled_movies\n",
    "    \n",
    "    \n",
    "    with open(\"data/new_files/test.txt\", \"w+\") as out:\n",
    "        with open(\"data/raw_data/test.txt\", \"r\") as f:\n",
    "            for line in f:\n",
    "                data = line.strip(\"\\n\").split(\"\\t\")\n",
    "\n",
    "                user = int(data[0])\n",
    "                movie = int(data[1])\n",
    "                rating = int(data[2])\n",
    "\n",
    "                if movie in remapping:\n",
    "                    movie = remapping[movie]\n",
    "                    out.write(\"{}\\t{}\\t{}\\n\".format(user, movie, rating))\n",
    "                    \n",
    "    with open(\"data/new_files/test.txt\", \"r\") as check:\n",
    "        for line in check:\n",
    "            data = line.strip(\"\\n\").split(\"\\t\")\n",
    "            \n",
    "            assert data[1] not in disabled_movies\n",
    "    \n",
    "    with open(\"data/new_files/train.txt\", \"w+\") as out:\n",
    "        with open(\"data/raw_data/train.txt\", \"r\") as f:\n",
    "            for line in f:\n",
    "                data = line.strip(\"\\n\").split(\"\\t\")\n",
    "\n",
    "                user = int(data[0])\n",
    "                movie = int(data[1])\n",
    "                rating = int(data[2])\n",
    "\n",
    "                if movie in remapping:\n",
    "                    movie = remapping[movie]\n",
    "                    out.write(\"{}\\t{}\\t{}\\n\".format(user, movie, rating))\n",
    "                    \n",
    "    with open(\"data/new_files/train.txt\", \"r\") as check:\n",
    "        for line in check:\n",
    "            data = line.strip(\"\\n\").split(\"\\t\")\n",
    "            \n",
    "            assert data[1] not in disabled_movies"
   ]
  },
  {
   "cell_type": "code",
   "execution_count": 4,
   "metadata": {},
   "outputs": [],
   "source": [
    "clean_up_movie_files()"
   ]
  },
  {
   "cell_type": "code",
   "execution_count": 5,
   "metadata": {},
   "outputs": [],
   "source": [
    "def get_movies(file_loc, output_loc):\n",
    "    \"\"\" Extracts data from movies.txt.\n",
    "    \n",
    "    Returns dictionary of movie IDs and movie titles, and\n",
    "    dictionary of movie genres and movie IDs. \"\"\"\n",
    "    movie_dic, movie_genre_dic = {}, {g: [] for g in genre}\n",
    "    \n",
    "    with open(file_loc, encoding='latin-1') as f:\n",
    "        for line in f:\n",
    "            data = line.strip(\"\\n\").split(\"\\t\")\n",
    "            id = int(data[0]) - 1\n",
    "            movie_dic[id] = data[1]\n",
    "            for gen in genre:\n",
    "                ind = genre_dic[gen]\n",
    "                if data[2:][ind] == '1':\n",
    "                    movie_genre_dic[gen].append(id)\n",
    "                    \n",
    "    with open(output_loc, 'wb') as f:\n",
    "        pickle.dump((movie_dic, movie_genre_dic), f)"
   ]
  },
  {
   "cell_type": "code",
   "execution_count": 6,
   "metadata": {},
   "outputs": [],
   "source": [
    "get_movies(\"data/old_files/movies.txt\", \"data/old_files/get_movies.pkl\")\n",
    "get_movies(\"data/new_files/movies.txt\", \"data/new_files/get_movies.pkl\")"
   ]
  },
  {
   "cell_type": "code",
   "execution_count": 7,
   "metadata": {},
   "outputs": [],
   "source": [
    "def get_ratings(file_loc, output_loc):\n",
    "    \"\"\" Extracts data from data.txt\n",
    "    \n",
    "    Returns list of (user id, movie id, rating). \"\"\"\n",
    "    \n",
    "    lst = []\n",
    "        \n",
    "    with open(file_loc) as f:\n",
    "        for line in f:\n",
    "            data = line.strip(\"\\n\").split(\"\\t\")\n",
    "            user_id = int(data[0]) - 1\n",
    "            movie_id = int(data[1]) - 1\n",
    "            rate = float(data[2])\n",
    "            \n",
    "            lst.append((user_id, movie_id, rate))\n",
    "    \n",
    "    with open(output_loc, 'wb') as f:\n",
    "        pickle.dump(lst, f)"
   ]
  },
  {
   "cell_type": "code",
   "execution_count": 8,
   "metadata": {},
   "outputs": [],
   "source": [
    "get_ratings(\"data/old_files/data.txt\", \"data/old_files/get_ratings.pkl\")\n",
    "get_ratings(\"data/new_files/data.txt\", \"data/new_files/get_ratings.pkl\")"
   ]
  },
  {
   "cell_type": "code",
   "execution_count": 9,
   "metadata": {},
   "outputs": [],
   "source": [
    "def get_test_data(file_loc, output_loc):\n",
    "    \"\"\" Extracts data from data.txt\n",
    "    \n",
    "    Returns list of (user id, movie id, rating). \"\"\"\n",
    "    \n",
    "    lst = []\n",
    "        \n",
    "    with open(file_loc) as f:\n",
    "        for line in f:\n",
    "            data = line.strip(\"\\n\").split(\"\\t\")\n",
    "            user_id = int(data[0]) - 1\n",
    "            movie_id = int(data[1]) - 1\n",
    "            rate = float(data[2])\n",
    "            \n",
    "            lst.append((user_id, movie_id, rate))\n",
    "    \n",
    "    with open(output_loc, 'wb') as f:\n",
    "        pickle.dump(lst, f)"
   ]
  },
  {
   "cell_type": "code",
   "execution_count": 10,
   "metadata": {},
   "outputs": [],
   "source": [
    "get_test_data(\"data/old_files/test.txt\", \"data/old_files/get_test_data.pkl\")\n",
    "get_test_data(\"data/new_files/test.txt\", \"data/new_files/get_test_data.pkl\")"
   ]
  }
 ],
 "metadata": {
  "kernelspec": {
   "display_name": "Python 3",
   "language": "python",
   "name": "python3"
  },
  "language_info": {
   "codemirror_mode": {
    "name": "ipython",
    "version": 3
   },
   "file_extension": ".py",
   "mimetype": "text/x-python",
   "name": "python",
   "nbconvert_exporter": "python",
   "pygments_lexer": "ipython3",
   "version": "3.6.4"
  }
 },
 "nbformat": 4,
 "nbformat_minor": 2
}
