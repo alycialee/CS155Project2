{
 "cells": [
  {
   "cell_type": "code",
   "execution_count": 1,
   "metadata": {
    "collapsed": true
   },
   "outputs": [],
   "source": [
    "import numpy as np\n",
    "import pickle\n",
    "import matplotlib.pyplot as plt"
   ]
  },
  {
   "cell_type": "code",
   "execution_count": 3,
   "metadata": {},
   "outputs": [],
   "source": [
    "with open('get_movies.pkl', 'rb') as f:\n",
    "    t = pickle.load(f)\n",
    "    \n",
    "movie_dic = t[0]\n",
    "movie_genre_dic = t[1]\n",
    "\n",
    "with open('get_ratings.pkl', 'rb') as f:\n",
    "    lst = pickle.load(f)"
   ]
  },
  {
   "cell_type": "code",
   "execution_count": 4,
   "metadata": {
    "collapsed": true
   },
   "outputs": [],
   "source": [
    "def grad_U(Ui, Yij, Vj, reg, eta):\n",
    "    \"\"\"\n",
    "    Takes as input Ui (the ith row of U), a training point Yij, the column\n",
    "    vector Vj (jth column of V^T), reg (the regularization parameter lambda),\n",
    "    and eta (the learning rate).\n",
    "\n",
    "    Returns the gradient of the regularized loss function with\n",
    "    respect to Ui multiplied by eta.\n",
    "    \"\"\"\n",
    "    return (1-reg*eta)*Ui + eta * Vj * (Yij - np.dot(Ui,Vj))     \n",
    "\n",
    "def grad_V(Vj, Yij, Ui, reg, eta):\n",
    "    \"\"\"\n",
    "    Takes as input the column vector Vj (jth column of V^T), a training point Yij,\n",
    "    Ui (the ith row of U), reg (the regularization parameter lambda),\n",
    "    and eta (the learning rate).\n",
    "\n",
    "    Returns the gradient of the regularized loss function with\n",
    "    respect to Vj multiplied by eta.\n",
    "    \"\"\"\n",
    "    return (1-reg*eta)*Vj + eta * Ui * (Yij - np.dot(Ui,Vj))\n",
    "\n",
    "def get_err(U, V, Y, reg=0.0):\n",
    "    \"\"\"\n",
    "    Takes as input a matrix Y of triples (i, j, Y_ij) where i is the index of a user,\n",
    "    j is the index of a movie, and Y_ij is user i's rating of movie j and\n",
    "    user/movie matrices U and V.\n",
    "\n",
    "    Returns the mean regularized squared-error of predictions made by\n",
    "    estimating Y_{ij} as the dot product of the ith row of U and the jth column of V^T.\n",
    "    \"\"\"\n",
    "    # Compute mean squared error on each data point in Y; include\n",
    "    # regularization penalty in error calculations.\n",
    "    # We first compute the total squared squared error\n",
    "    err = 0.0\n",
    "    for (i,j,Yij) in Y:\n",
    "        err += 0.5 *(Yij - np.dot(U[i-1], V[:,j-1]))**2\n",
    "    # Add error penalty due to regularization if regularization\n",
    "    # parameter is nonzero\n",
    "    if reg != 0:\n",
    "        U_frobenius_norm = np.linalg.norm(U, ord='fro')\n",
    "        V_frobenius_norm = np.linalg.norm(V, ord='fro')\n",
    "        err += 0.5 * reg * (U_frobenius_norm ** 2)\n",
    "        err += 0.5 * reg * (V_frobenius_norm ** 2)\n",
    "    # Return the mean of the regularized error\n",
    "    return err / float(len(Y))\n",
    "\n",
    "def train_model(M, N, K, eta, reg, Y, eps=0.0001, max_epochs=300):\n",
    "    \"\"\"\n",
    "    Given a training data matrix Y containing rows (i, j, Y_ij)\n",
    "    where Y_ij is user i's rating on movie j, learns an\n",
    "    M x K matrix U and N x K matrix V such that rating Y_ij is approximated\n",
    "    by (UV)_ij.\n",
    "\n",
    "    Uses a learning rate of <eta> and regularization of <reg>. Stops after\n",
    "    <max_epochs> epochs, or once the magnitude of the decrease in regularized\n",
    "    MSE between epochs is smaller than a fraction <eps> of the decrease in\n",
    "    MSE after the first epoch.\n",
    "\n",
    "    Returns a tuple (U, V, err) consisting of U, V, and the unregularized MSE\n",
    "    of the model.\n",
    "    \"\"\"\n",
    "    # Initialize U, V  \n",
    "    U = np.random.random((M,K)) - 0.5\n",
    "    V = np.random.random((K,N)) - 0.5\n",
    "    size = len(Y)\n",
    "    delta = None\n",
    "    indices = np.arange(size)    \n",
    "    for epoch in range(max_epochs):\n",
    "        # Run an epoch of SGD\n",
    "        before_E_in = get_err(U, V, Y, reg)\n",
    "        np.random.shuffle(indices)\n",
    "        for ind in indices:\n",
    "            (i,j, Yij) = Y[ind]\n",
    "            # Update U[i], V[j]\n",
    "            U[i-1] = grad_U(U[i-1], Yij, V[:,j-1], reg, eta)\n",
    "            V[:,j-1] = grad_V(V[:,j-1], Yij, U[i-1], reg, eta);\n",
    "        # At end of epoch, print E_in\n",
    "        E_in = get_err(U, V, Y, reg)\n",
    "        print(\"Epoch %s, E_in (regularized MSE): %s\"%(epoch + 1, E_in))\n",
    "\n",
    "        # Compute change in E_in for first epoch\n",
    "        if epoch == 0:\n",
    "            delta = before_E_in - E_in\n",
    "\n",
    "        # If E_in doesn't decrease by some fraction <eps>\n",
    "        # of the initial decrease in E_in, stop early            \n",
    "        elif before_E_in - E_in < eps * delta:\n",
    "            break\n",
    "    return (U, V, get_err(U, V, Y))"
   ]
  },
  {
   "cell_type": "code",
   "execution_count": 5,
   "metadata": {
    "collapsed": true
   },
   "outputs": [],
   "source": [
    "num_movies = len(movie_dic)\n",
    "num_users = 943"
   ]
  },
  {
   "cell_type": "code",
   "execution_count": 6,
   "metadata": {
    "collapsed": true
   },
   "outputs": [],
   "source": [
    "m = num_users\n",
    "n = num_movies\n",
    "k = 20\n",
    "eta = 0.1\n",
    "reg = 0.01"
   ]
  },
  {
   "cell_type": "code",
   "execution_count": 7,
   "metadata": {
    "collapsed": true
   },
   "outputs": [],
   "source": [
    "ratings = np.array(lst)"
   ]
  },
  {
   "cell_type": "code",
   "execution_count": 8,
   "metadata": {},
   "outputs": [
    {
     "name": "stdout",
     "output_type": "stream",
     "text": [
      "Epoch 1, E_in (regularized MSE): 1.273479612224813\n",
      "Epoch 2, E_in (regularized MSE): 0.7159987512473974\n",
      "Epoch 3, E_in (regularized MSE): 0.6168345190067619\n",
      "Epoch 4, E_in (regularized MSE): 0.5740239627012637\n",
      "Epoch 5, E_in (regularized MSE): 0.5574917539045524\n",
      "Epoch 6, E_in (regularized MSE): 0.5454026888580894\n",
      "Epoch 7, E_in (regularized MSE): 0.5131857902098085\n",
      "Epoch 8, E_in (regularized MSE): 0.5173291936751647\n"
     ]
    }
   ],
   "source": [
    "u,v, final_err = train_model(m, n, k, eta, reg, lst, eps=0.0001, max_epochs=300)"
   ]
  },
  {
   "cell_type": "markdown",
   "metadata": {},
   "source": [
    "# train/test"
   ]
  },
  {
   "cell_type": "code",
   "execution_count": 9,
   "metadata": {
    "collapsed": true
   },
   "outputs": [],
   "source": [
    "Y_train = np.loadtxt('data/train.txt').astype(int)\n",
    "Y_test = np.loadtxt('data/test.txt').astype(int)"
   ]
  },
  {
   "cell_type": "code",
   "execution_count": 10,
   "metadata": {},
   "outputs": [
    {
     "name": "stdout",
     "output_type": "stream",
     "text": [
      "Epoch 1, E_in (regularized MSE): 0.5490043783724032\n",
      "Epoch 2, E_in (regularized MSE): 0.5056225880348528\n",
      "Epoch 3, E_in (regularized MSE): 0.4760106132941924\n",
      "Epoch 4, E_in (regularized MSE): 0.4685097154239684\n",
      "Epoch 5, E_in (regularized MSE): 0.454676291590126\n",
      "Epoch 6, E_in (regularized MSE): 0.4451097256472012\n",
      "Epoch 7, E_in (regularized MSE): 0.4286615039082621\n",
      "Epoch 8, E_in (regularized MSE): 0.42567632153550555\n",
      "Epoch 9, E_in (regularized MSE): 0.4155619680156991\n",
      "Epoch 10, E_in (regularized MSE): 0.41349426439263043\n",
      "Epoch 11, E_in (regularized MSE): 0.40778186123161125\n",
      "Epoch 12, E_in (regularized MSE): 0.4127101829220989\n"
     ]
    }
   ],
   "source": [
    "num_movies = len(movie_dic)\n",
    "num_users = 943\n",
    "m = num_users\n",
    "n = num_movies\n",
    "k = 20\n",
    "eta = 0.1\n",
    "reg = 0.1\n",
    "\n",
    "u,v, final_err = train_model(m, n, k, eta, reg, Y_train, eps=0.0001, max_epochs=300)\n"
   ]
  },
  {
   "cell_type": "code",
   "execution_count": 11,
   "metadata": {},
   "outputs": [
    {
     "name": "stdout",
     "output_type": "stream",
     "text": [
      "e_in is: 0.4127101829220989\n",
      "e_out is: 0.5963881013864606\n"
     ]
    }
   ],
   "source": [
    "e_in = get_err(u, v, Y_train, reg)\n",
    "e_out = get_err(u, v, Y_test, reg)\n",
    "print(\"e_in is: \" + str(e_in))\n",
    "print(\"e_out is: \" + str(e_out))"
   ]
  },
  {
   "cell_type": "markdown",
   "metadata": {},
   "source": [
    "# SVD visualization"
   ]
  },
  {
   "cell_type": "code",
   "execution_count": 12,
   "metadata": {},
   "outputs": [
    {
     "name": "stdout",
     "output_type": "stream",
     "text": [
      "done\n"
     ]
    }
   ],
   "source": [
    "from sklearn.decomposition import TruncatedSVD\n",
    "\n",
    "svd = TruncatedSVD(n_components=2, n_iter=7, random_state=42)\n",
    "svd.fit_transform(v)\n",
    "print(\"done\")"
   ]
  },
  {
   "cell_type": "code",
   "execution_count": 13,
   "metadata": {
    "collapsed": true
   },
   "outputs": [],
   "source": [
    "from numpy.linalg import svd\n",
    "a, sigma, b = np.linalg.svd(v)"
   ]
  },
  {
   "cell_type": "code",
   "execution_count": 14,
   "metadata": {},
   "outputs": [
    {
     "data": {
      "text/plain": [
       "(20, 20)"
      ]
     },
     "execution_count": 14,
     "metadata": {},
     "output_type": "execute_result"
    }
   ],
   "source": [
    "a.shape"
   ]
  },
  {
   "cell_type": "code",
   "execution_count": 15,
   "metadata": {},
   "outputs": [
    {
     "data": {
      "text/plain": [
       "(1682, 1682)"
      ]
     },
     "execution_count": 15,
     "metadata": {},
     "output_type": "execute_result"
    }
   ],
   "source": [
    "b.shape"
   ]
  },
  {
   "cell_type": "code",
   "execution_count": 16,
   "metadata": {},
   "outputs": [
    {
     "data": {
      "text/plain": [
       "(20, 20)"
      ]
     },
     "execution_count": 16,
     "metadata": {},
     "output_type": "execute_result"
    }
   ],
   "source": [
    "np.diag(sigma).shape"
   ]
  },
  {
   "cell_type": "code",
   "execution_count": 17,
   "metadata": {},
   "outputs": [
    {
     "data": {
      "text/plain": [
       "(943, 20)"
      ]
     },
     "execution_count": 17,
     "metadata": {},
     "output_type": "execute_result"
    }
   ],
   "source": [
    "u.shape"
   ]
  },
  {
   "cell_type": "code",
   "execution_count": 18,
   "metadata": {},
   "outputs": [
    {
     "data": {
      "text/plain": [
       "(20, 1682)"
      ]
     },
     "execution_count": 18,
     "metadata": {},
     "output_type": "execute_result"
    }
   ],
   "source": [
    "v.shape"
   ]
  },
  {
   "cell_type": "code",
   "execution_count": 19,
   "metadata": {},
   "outputs": [
    {
     "name": "stdout",
     "output_type": "stream",
     "text": [
      "(2, 20)\n"
     ]
    }
   ],
   "source": [
    "transformer = a[:, :2].T\n",
    "print(transformer.shape)"
   ]
  },
  {
   "cell_type": "code",
   "execution_count": 20,
   "metadata": {},
   "outputs": [
    {
     "name": "stdout",
     "output_type": "stream",
     "text": [
      "(1682, 2)\n"
     ]
    }
   ],
   "source": [
    "transformed_v = np.matmul(transformer, v).T\n",
    "print(transformed_v.shape)"
   ]
  },
  {
   "cell_type": "code",
   "execution_count": 21,
   "metadata": {},
   "outputs": [
    {
     "name": "stdout",
     "output_type": "stream",
     "text": [
      "(943, 2)\n"
     ]
    }
   ],
   "source": [
    "transformed_u = np.matmul(transformer, u.T).T\n",
    "print(transformed_u.shape)"
   ]
  },
  {
   "cell_type": "markdown",
   "metadata": {},
   "source": [
    "# visualizations"
   ]
  },
  {
   "cell_type": "code",
   "execution_count": 22,
   "metadata": {
    "collapsed": true
   },
   "outputs": [],
   "source": [
    "indices = np.random.randint(1682, size=10)"
   ]
  },
  {
   "cell_type": "code",
   "execution_count": 23,
   "metadata": {
    "collapsed": true
   },
   "outputs": [],
   "source": [
    "x = [transformed_v[i][0] for i in indices]\n",
    "y = [transformed_v[i][1] for i in indices]"
   ]
  },
  {
   "cell_type": "code",
   "execution_count": 24,
   "metadata": {},
   "outputs": [
    {
     "data": {
      "text/plain": [
       "<matplotlib.collections.PathCollection at 0x111842940>"
      ]
     },
     "execution_count": 24,
     "metadata": {},
     "output_type": "execute_result"
    },
    {
     "data": {
      "image/png": "[encoded data removed]",
      "text/plain": [
       "<Figure size 432x288 with 1 Axes>"
      ]
     },
     "metadata": {
      "needs_background": "light"
     },
     "output_type": "display_data"
    }
   ],
   "source": [
    "plt.scatter(x,y)"
   ]
  },
  {
   "cell_type": "code",
   "execution_count": 25,
   "metadata": {
    "collapsed": true
   },
   "outputs": [],
   "source": [
    "num_ratings_vs_movies = [0 for i in movie_dic.keys()]\n",
    "for (i, j, yij) in lst:\n",
    "    num_ratings_vs_movies[j] += 1\n",
    "num_ratings_vs_movies = np.array(num_ratings_vs_movies)"
   ]
  },
  {
   "cell_type": "code",
   "execution_count": 26,
   "metadata": {
    "collapsed": true
   },
   "outputs": [],
   "source": [
    "indices = num_ratings_vs_movies.argsort()[-10:][::-1]"
   ]
  },
  {
   "cell_type": "code",
   "execution_count": 27,
   "metadata": {},
   "outputs": [
    {
     "data": {
      "text/plain": [
       "<matplotlib.collections.PathCollection at 0x1118df240>"
      ]
     },
     "execution_count": 27,
     "metadata": {},
     "output_type": "execute_result"
    },
    {
     "data": {
      "image/png": "[encoded data removed]",
      "text/plain": [
       "<Figure size 432x288 with 1 Axes>"
      ]
     },
     "metadata": {
      "needs_background": "light"
     },
     "output_type": "display_data"
    }
   ],
   "source": [
    "x = [transformed_v[i][0] for i in indices]\n",
    "y = [transformed_v[i][1] for i in indices]\n",
    "plt.scatter(x,y)"
   ]
  },
  {
   "cell_type": "code",
   "execution_count": 28,
   "metadata": {
    "collapsed": true
   },
   "outputs": [],
   "source": [
    "movie_rating_dic = {id: [] for id in movie_dic.keys()} # dic of movie id and ratings\n",
    "\n",
    "for rating in lst:\n",
    "    _, movie_id, r = rating\n",
    "    movie_rating_dic[movie_id].append(r)\n",
    "\n",
    "avg_ratings = {movie: sum(movie_rating_dic[movie]) / len(movie_rating_dic[movie]) \\\n",
    "               for movie in movie_rating_dic}\n",
    "\n",
    "# get ten best movies that received highest average rating\n",
    "top_10 = sorted(avg_ratings.items(), key=lambda tup: tup[1], reverse=True)[:10]\n",
    "indices = [t[0] for t in top_10]"
   ]
  },
  {
   "cell_type": "code",
   "execution_count": 29,
   "metadata": {},
   "outputs": [
    {
     "data": {
      "text/plain": [
       "<matplotlib.collections.PathCollection at 0x1119bbcf8>"
      ]
     },
     "execution_count": 29,
     "metadata": {},
     "output_type": "execute_result"
    },
    {
     "data": {
      "image/png": "[encoded data removed]",
      "text/plain": [
       "<Figure size 432x288 with 1 Axes>"
      ]
     },
     "metadata": {
      "needs_background": "light"
     },
     "output_type": "display_data"
    }
   ],
   "source": [
    "x = [transformed_v[i][0] for i in indices]\n",
    "y = [transformed_v[i][1] for i in indices]\n",
    "plt.scatter(x,y)"
   ]
  },
  {
   "cell_type": "code",
   "execution_count": 30,
   "metadata": {},
   "outputs": [
    {
     "data": {
      "text/plain": [
       "<matplotlib.collections.PathCollection at 0x111a74908>"
      ]
     },
     "execution_count": 30,
     "metadata": {},
     "output_type": "execute_result"
    },
    {
     "data": {
      "image/png": "[encoded data removed]",
      "text/plain": [
       "<Figure size 432x288 with 1 Axes>"
      ]
     },
     "metadata": {
      "needs_background": "light"
     },
     "output_type": "display_data"
    }
   ],
   "source": [
    "fant_movies = movie_genre_dic['Fantasy']\n",
    "indices = fant_movies[:10]\n",
    "x = [transformed_v[i][0] for i in indices]\n",
    "y = [transformed_v[i][1] for i in indices]\n",
    "plt.scatter(x,y)"
   ]
  },
  {
   "cell_type": "code",
   "execution_count": 31,
   "metadata": {},
   "outputs": [
    {
     "data": {
      "text/plain": [
       "<matplotlib.collections.PathCollection at 0x111adb3c8>"
      ]
     },
     "execution_count": 31,
     "metadata": {},
     "output_type": "execute_result"
    },
    {
     "data": {
      "image/png": "[encoded data removed]",
      "text/plain": [
       "<Figure size 432x288 with 1 Axes>"
      ]
     },
     "metadata": {
      "needs_background": "light"
     },
     "output_type": "display_data"
    }
   ],
   "source": [
    "fant_movies = movie_genre_dic['Documentary']\n",
    "indices = fant_movies[:10]\n",
    "x = [transformed_v[i][0] for i in indices]\n",
    "y = [transformed_v[i][1] for i in indices]\n",
    "plt.scatter(x,y)"
   ]
  },
  {
   "cell_type": "code",
   "execution_count": 32,
   "metadata": {},
   "outputs": [
    {
     "data": {
      "text/plain": [
       "<matplotlib.collections.PathCollection at 0x111bfc208>"
      ]
     },
     "execution_count": 32,
     "metadata": {},
     "output_type": "execute_result"
    },
    {
     "data": {
      "image/png": "[encoded data removed]",
      "text/plain": [
       "<Figure size 432x288 with 1 Axes>"
      ]
     },
     "metadata": {
      "needs_background": "light"
     },
     "output_type": "display_data"
    }
   ],
   "source": [
    "fant_movies = movie_genre_dic[\"Children's\"]\n",
    "indices = fant_movies[:10]\n",
    "x = [transformed_v[i][0] for i in indices]\n",
    "y = [transformed_v[i][1] for i in indices]\n",
    "plt.scatter(x,y)"
   ]
  },
  {
   "cell_type": "code",
   "execution_count": null,
   "metadata": {
    "collapsed": true
   },
   "outputs": [],
   "source": []
  }
 ],
 "metadata": {
  "kernelspec": {
   "display_name": "Python 3",
   "language": "python",
   "name": "python3"
  },
  "language_info": {
   "codemirror_mode": {
    "name": "ipython",
    "version": 3
   },
   "file_extension": ".py",
   "mimetype": "text/x-python",
   "name": "python",
   "nbconvert_exporter": "python",
   "pygments_lexer": "ipython3",
   "version": "3.6.5"
  }
 },
 "nbformat": 4,
 "nbformat_minor": 2
}
