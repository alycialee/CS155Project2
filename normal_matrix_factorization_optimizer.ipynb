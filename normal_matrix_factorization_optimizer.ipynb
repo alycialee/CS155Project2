{
 "cells": [
  {
   "cell_type": "code",
   "execution_count": 1,
   "metadata": {},
   "outputs": [],
   "source": [
    "import numpy as np\n",
    "import pickle\n",
    "import matplotlib.pyplot as plt"
   ]
  },
  {
   "cell_type": "code",
   "execution_count": 2,
   "metadata": {},
   "outputs": [],
   "source": [
    "with open('data/get_movies.pkl', 'rb') as f:\n",
    "    t = pickle.load(f)\n",
    "    \n",
    "movie_dic = t[0]\n",
    "movie_genre_dic = t[1]\n",
    "\n",
    "with open('data/get_ratings.pkl', 'rb') as f:\n",
    "    lst = pickle.load(f)"
   ]
  },
  {
   "cell_type": "code",
   "execution_count": 3,
   "metadata": {},
   "outputs": [],
   "source": [
    "def grad_U(Ui, Yij, Vj, y_mean, reg, eta):\n",
    "    \"\"\"\n",
    "    Takes as input Ui (the ith row of U), a training point Yij, the column\n",
    "    vector Vj (jth column of V^T), reg (the regularization parameter lambda),\n",
    "    and eta (the learning rate).\n",
    "\n",
    "    Returns the gradient of the regularized loss function with\n",
    "    respect to Ui multiplied by eta.\n",
    "    \"\"\"\n",
    "    return (1-2*reg*eta)*Ui + 2 * eta * Vj * (Yij - y_mean - np.dot(Ui,Vj))     \n",
    "\n",
    "def grad_V(Vj, Yij, Ui, y_mean, reg, eta):\n",
    "    \"\"\"\n",
    "    Takes as input the column vector Vj (jth column of V^T), a training point Yij,\n",
    "    Ui (the ith row of U), reg (the regularization parameter lambda),\n",
    "    and eta (the learning rate).\n",
    "\n",
    "    Returns the gradient of the regularized loss function with\n",
    "    respect to Vj multiplied by eta.\n",
    "    \"\"\"\n",
    "    return (1-2*reg*eta)*Vj + 2 * eta * Ui * (Yij - y_mean - np.dot(Ui,Vj))\n",
    "\n",
    "def get_err(U, V, Y, reg=0.0):\n",
    "    \"\"\"\n",
    "    Takes as input a matrix Y of triples (i, j, Y_ij) where i is the index of a user,\n",
    "    j is the index of a movie, and Y_ij is user i's rating of movie j and\n",
    "    user/movie matrices U and V.\n",
    "\n",
    "    Returns the mean regularized squared-error of predictions made by\n",
    "    estimating Y_{ij} as the dot product of the ith row of U and the jth column of V^T.\n",
    "    \"\"\"\n",
    "    \n",
    "    y_mean = np.mean(np.array([tup[2] for tup in Y]))\n",
    "    \n",
    "    # Compute mean squared error on each data point in Y; include\n",
    "    # regularization penalty in error calculations.\n",
    "    # We first compute the total squared squared error\n",
    "    err = 0.0\n",
    "    for (i,j,Yij) in Y:\n",
    "        err += (Yij - y_mean - np.dot(U[i-1], V[:,j-1]))**2\n",
    "    # Add error penalty due to regularization if regularization\n",
    "    # parameter is nonzero\n",
    "    if reg != 0:\n",
    "        U_frobenius_norm = np.linalg.norm(U, ord='fro')\n",
    "        V_frobenius_norm = np.linalg.norm(V, ord='fro')\n",
    "        err += reg * (U_frobenius_norm ** 2)\n",
    "        err += reg * (V_frobenius_norm ** 2)\n",
    "    # Return the mean of the regularized error\n",
    "    return err / float(len(Y))\n",
    "\n",
    "def get_msqe_err(U, V, Y):\n",
    "    y_mean = np.mean(np.array([tup[2] for tup in Y]))\n",
    "    \n",
    "    err = 0.0\n",
    "    for (i,j,Yij) in Y:\n",
    "        err += (Yij - y_mean - np.dot(U[i-1], V[:,j-1]))**2\n",
    "    \n",
    "    err /= len(Y)\n",
    "    \n",
    "    return err ** 0.5\n",
    "\n",
    "def train_model(M, N, K, eta, reg, Y, Y_test):\n",
    "    \"\"\"\n",
    "    Given a training data matrix Y containing rows (i, j, Y_ij)\n",
    "    where Y_ij is user i's rating on movie j, learns an\n",
    "    M x K matrix U and N x K matrix V such that rating Y_ij is approximated\n",
    "    by (UV)_ij.\n",
    "\n",
    "    Uses a learning rate of <eta> and regularization of <reg>. Stops after\n",
    "    <max_epochs> epochs, or once the magnitude of the decrease in regularized\n",
    "    MSE between epochs is smaller than a fraction <eps> of the decrease in\n",
    "    MSE after the first epoch.\n",
    "\n",
    "    Returns a tuple (U, V, err) consisting of U, V, and the unregularized MSE\n",
    "    of the model.\n",
    "    \"\"\"\n",
    "    \n",
    "    y_mean = np.mean(np.array([tup[2] for tup in Y]))\n",
    "    \n",
    "    # Initialize U, V  \n",
    "    U = np.random.random((M,K)) - 0.5\n",
    "    V = np.random.random((K,N)) - 0.5\n",
    "    \n",
    "    best_test_error = float('inf')\n",
    "    \n",
    "    size = len(Y)\n",
    "    delta = None\n",
    "    indices = np.arange(size)    \n",
    "    epoch = 0\n",
    "\n",
    "    \n",
    "    while epoch < 301:\n",
    "        epoch += 1\n",
    "        \n",
    "        # Run an epoch of SGD\n",
    "        before_E_in = get_err(U, V, Y, reg)\n",
    "        np.random.shuffle(indices)\n",
    "        \n",
    "        prev_U = U.copy()\n",
    "        prev_V = V.copy()\n",
    "        \n",
    "        for ind in indices:\n",
    "            (i,j, Yij) = Y[ind]\n",
    "            # Update U[i], V[j]\n",
    "            U[i-1] = grad_U(U[i-1], Yij, V[:,j-1], y_mean, reg, eta)\n",
    "            V[:,j-1] = grad_V(V[:,j-1], Yij, U[i-1], y_mean, reg, eta);\n",
    "        # At end of epoch, print E_in\n",
    "        E_in = get_err(U, V, Y, reg)\n",
    "        E_out = get_msqe_err(U, V, Y_test)\n",
    "\n",
    "        print(\"Epoch %s, E_in (regularized MSE): %s; E_out (MSQE): %s\"%(epoch, E_in, E_out))\n",
    "#         print(\"Epoch %s, E_in (regularized MSE): %s; MSQE: %s\"%(epoch + 1, E_in, get_msqe_err(U, V, Y)))\n",
    "\n",
    "\n",
    "        if best_test_error > E_out:\n",
    "            best_test_error = E_out\n",
    "        else:\n",
    "            return (prev_U, prev_V, get_msqe_err(prev_U, prev_V, Y), get_msqe_err(prev_U, prev_V, Y_test), epoch - 1)\n",
    "\n",
    "#     return (U, V, get_err(U, V, Y,y_mean))\n",
    "    return -1"
   ]
  },
  {
   "cell_type": "code",
   "execution_count": 4,
   "metadata": {},
   "outputs": [],
   "source": [
    "ratings = np.array(lst)"
   ]
  },
  {
   "cell_type": "markdown",
   "metadata": {},
   "source": [
    "# train/test"
   ]
  },
  {
   "cell_type": "code",
   "execution_count": null,
   "metadata": {},
   "outputs": [],
   "source": [
    "Y_train = np.loadtxt('data/train.txt').astype(int)\n",
    "Y_test = np.loadtxt('data/test.txt').astype(int)"
   ]
  },
  {
   "cell_type": "code",
   "execution_count": null,
   "metadata": {},
   "outputs": [
    {
     "name": "stdout",
     "output_type": "stream",
     "text": [
      "Epoch 1, E_in (regularized MSE): 1.2683515392126055; E_out (MSQE): 1.1467184257810337\n",
      "Epoch 2, E_in (regularized MSE): 1.21515972204921; E_out (MSQE): 1.1335590230081707\n",
      "Epoch 3, E_in (regularized MSE): 1.172035594262741; E_out (MSQE): 1.1210308496305361\n",
      "Epoch 4, E_in (regularized MSE): 1.1160989382816926; E_out (MSQE): 1.1021959310725873\n",
      "Epoch 5, E_in (regularized MSE): 1.0457170763641035; E_out (MSQE): 1.0766063489157343\n",
      "Epoch 6, E_in (regularized MSE): 0.9762149406503593; E_out (MSQE): 1.0510708435576046\n",
      "Epoch 7, E_in (regularized MSE): 0.9183678281520177; E_out (MSQE): 1.0299434949140875\n",
      "Epoch 8, E_in (regularized MSE): 0.871808813901724; E_out (MSQE): 1.0131169258489767\n",
      "Epoch 9, E_in (regularized MSE): 0.8355780092238864; E_out (MSQE): 0.9997674030972631\n",
      "Epoch 10, E_in (regularized MSE): 0.8068969904131255; E_out (MSQE): 0.989486220850158\n",
      "Epoch 11, E_in (regularized MSE): 0.783914397299441; E_out (MSQE): 0.9814665566911536\n",
      "Epoch 12, E_in (regularized MSE): 0.7645343967455785; E_out (MSQE): 0.9750245427532946\n",
      "Epoch 13, E_in (regularized MSE): 0.7487754392152216; E_out (MSQE): 0.9698842333018676\n",
      "Epoch 14, E_in (regularized MSE): 0.7344077182004927; E_out (MSQE): 0.9649673302401146\n",
      "Epoch 15, E_in (regularized MSE): 0.7226709056519535; E_out (MSQE): 0.9611767872627378\n",
      "Epoch 16, E_in (regularized MSE): 0.7117322329542668; E_out (MSQE): 0.9578596911009226\n",
      "Epoch 17, E_in (regularized MSE): 0.7016248408064655; E_out (MSQE): 0.9551959961382014\n",
      "Epoch 18, E_in (regularized MSE): 0.6932069826567355; E_out (MSQE): 0.95295619770258\n",
      "Epoch 19, E_in (regularized MSE): 0.6845939577471281; E_out (MSQE): 0.951064218211531\n",
      "Epoch 20, E_in (regularized MSE): 0.6772483309640478; E_out (MSQE): 0.9492372543870464\n",
      "Epoch 21, E_in (regularized MSE): 0.66986796119771; E_out (MSQE): 0.9472111712405269\n",
      "Epoch 22, E_in (regularized MSE): 0.6639973049007629; E_out (MSQE): 0.9459217985820912\n",
      "Epoch 23, E_in (regularized MSE): 0.6578623389753497; E_out (MSQE): 0.9448731407195993\n",
      "Epoch 24, E_in (regularized MSE): 0.6519482660333904; E_out (MSQE): 0.9441560743901541\n"
     ]
    }
   ],
   "source": [
    "num_movies = len(movie_dic)\n",
    "num_users = 943\n",
    "m = num_users\n",
    "n = num_movies\n",
    "k = 20\n",
    "\n",
    "etas = [0.005, 0.007, 0.009, 0.003, 0.001]\n",
    "regs = [0.1, 0.12, 0.14, 0.08, 0.06]\n",
    "\n",
    "best_pair = (1, 0.001)\n",
    "best_e_out = float('inf')\n",
    "\n",
    "for eta in etas:\n",
    "    for reg in regs:\n",
    "        u,v, final_err, final_test_err, epoch = train_model(m, n, k, eta, reg, Y_train, Y_test)\n",
    "        \n",
    "        print(eta, reg, final_test_err)\n",
    "        \n",
    "        if best_e_out > final_test_err:\n",
    "            best_pair = (eta, reg)\n",
    "            best_e_out = final_test_err\n",
    "            \n",
    "            print(\"new record\")\n",
    "\n",
    "print(\"Best (eta, reg) pair: \", best_pair)\n",
    "\n",
    "\n",
    "u,v, final_err, final_test_err, epoch = train_model(m, n, k, best_pair[0], best_pair[1], Y_train, Y_test)\n",
    "\n",
    "print(final_test_err, epoch)"
   ]
  },
  {
   "cell_type": "code",
   "execution_count": null,
   "metadata": {},
   "outputs": [],
   "source": [
    "with open(\"matrices/normal_best_model_eta_{}_reg_{}_epoch_{}_testerr_{}.matrix\".format(best_pair[0], best_pair[1], epoch, final_test_err), \"wb+\") as f:\n",
    "    np.save(f, v)"
   ]
  },
  {
   "cell_type": "markdown",
   "metadata": {},
   "source": [
    "# SVD visualization"
   ]
  },
  {
   "cell_type": "code",
   "execution_count": null,
   "metadata": {},
   "outputs": [],
   "source": [
    "from sklearn.decomposition import TruncatedSVD\n",
    "\n",
    "svd = TruncatedSVD(n_components=2, n_iter=7, random_state=42)\n",
    "svd.fit_transform(v)\n",
    "print(\"done\")"
   ]
  },
  {
   "cell_type": "code",
   "execution_count": null,
   "metadata": {},
   "outputs": [],
   "source": [
    "from numpy.linalg import svd\n",
    "a, sigma, b = np.linalg.svd(v)"
   ]
  },
  {
   "cell_type": "code",
   "execution_count": null,
   "metadata": {},
   "outputs": [],
   "source": [
    "a.shape"
   ]
  },
  {
   "cell_type": "code",
   "execution_count": null,
   "metadata": {},
   "outputs": [],
   "source": [
    "b.shape"
   ]
  },
  {
   "cell_type": "code",
   "execution_count": null,
   "metadata": {},
   "outputs": [],
   "source": [
    "np.diag(sigma).shape"
   ]
  },
  {
   "cell_type": "code",
   "execution_count": null,
   "metadata": {},
   "outputs": [],
   "source": [
    "u.shape"
   ]
  },
  {
   "cell_type": "code",
   "execution_count": null,
   "metadata": {},
   "outputs": [],
   "source": [
    "v.shape"
   ]
  },
  {
   "cell_type": "code",
   "execution_count": null,
   "metadata": {},
   "outputs": [],
   "source": [
    "transformer = a[:, :2].T\n",
    "print(transformer.shape)"
   ]
  },
  {
   "cell_type": "code",
   "execution_count": null,
   "metadata": {},
   "outputs": [],
   "source": [
    "transformed_v = np.matmul(transformer, v).T\n",
    "print(transformed_v.shape)"
   ]
  },
  {
   "cell_type": "code",
   "execution_count": null,
   "metadata": {},
   "outputs": [],
   "source": [
    "transformed_u = np.matmul(transformer, u.T).T\n",
    "print(transformed_u.shape)"
   ]
  },
  {
   "cell_type": "markdown",
   "metadata": {},
   "source": [
    "# visualizations"
   ]
  },
  {
   "cell_type": "code",
   "execution_count": null,
   "metadata": {},
   "outputs": [],
   "source": [
    "indices = np.random.randint(1682, size=10)"
   ]
  },
  {
   "cell_type": "code",
   "execution_count": null,
   "metadata": {},
   "outputs": [],
   "source": [
    "x = [transformed_v[i][0] for i in indices]\n",
    "y = [transformed_v[i][1] for i in indices]"
   ]
  },
  {
   "cell_type": "code",
   "execution_count": null,
   "metadata": {},
   "outputs": [],
   "source": [
    "plt.scatter(x,y)"
   ]
  },
  {
   "cell_type": "code",
   "execution_count": null,
   "metadata": {},
   "outputs": [],
   "source": [
    "num_ratings_vs_movies = [0 for i in movie_dic.keys()]\n",
    "for (i, j, yij) in lst:\n",
    "    num_ratings_vs_movies[j] += 1\n",
    "num_ratings_vs_movies = np.array(num_ratings_vs_movies)"
   ]
  },
  {
   "cell_type": "code",
   "execution_count": null,
   "metadata": {},
   "outputs": [],
   "source": [
    "indices = num_ratings_vs_movies.argsort()[-10:][::-1]"
   ]
  },
  {
   "cell_type": "code",
   "execution_count": null,
   "metadata": {},
   "outputs": [],
   "source": [
    "x = [transformed_v[i][0] for i in indices]\n",
    "y = [transformed_v[i][1] for i in indices]\n",
    "plt.scatter(x,y)"
   ]
  },
  {
   "cell_type": "code",
   "execution_count": null,
   "metadata": {},
   "outputs": [],
   "source": [
    "movie_rating_dic = {id: [] for id in movie_dic.keys()} # dic of movie id and ratings\n",
    "\n",
    "for rating in lst:\n",
    "    _, movie_id, r = rating\n",
    "    movie_rating_dic[movie_id].append(r)\n",
    "\n",
    "avg_ratings = {movie: sum(movie_rating_dic[movie]) / len(movie_rating_dic[movie]) \\\n",
    "               for movie in movie_rating_dic}\n",
    "\n",
    "# get ten best movies that received highest average rating\n",
    "top_10 = sorted(avg_ratings.items(), key=lambda tup: tup[1], reverse=True)[:10]\n",
    "indices = [t[0] for t in top_10]"
   ]
  },
  {
   "cell_type": "code",
   "execution_count": null,
   "metadata": {},
   "outputs": [],
   "source": [
    "x = [transformed_v[i][0] for i in indices]\n",
    "y = [transformed_v[i][1] for i in indices]\n",
    "plt.scatter(x,y)"
   ]
  },
  {
   "cell_type": "code",
   "execution_count": null,
   "metadata": {},
   "outputs": [],
   "source": [
    "fant_movies = movie_genre_dic['Fantasy']\n",
    "indices = fant_movies[:10]\n",
    "x = [transformed_v[i][0] for i in indices]\n",
    "y = [transformed_v[i][1] for i in indices]\n",
    "plt.scatter(x,y)"
   ]
  },
  {
   "cell_type": "code",
   "execution_count": null,
   "metadata": {},
   "outputs": [],
   "source": [
    "fant_movies = movie_genre_dic['Documentary']\n",
    "indices = fant_movies[:10]\n",
    "x = [transformed_v[i][0] for i in indices]\n",
    "y = [transformed_v[i][1] for i in indices]\n",
    "plt.scatter(x,y)"
   ]
  },
  {
   "cell_type": "code",
   "execution_count": null,
   "metadata": {},
   "outputs": [],
   "source": [
    "fant_movies = movie_genre_dic[\"Children's\"]\n",
    "indices = fant_movies[:10]\n",
    "x = [transformed_v[i][0] for i in indices]\n",
    "y = [transformed_v[i][1] for i in indices]\n",
    "plt.scatter(x,y)"
   ]
  },
  {
   "cell_type": "code",
   "execution_count": null,
   "metadata": {},
   "outputs": [],
   "source": []
  }
 ],
 "metadata": {
  "kernelspec": {
   "display_name": "Python 3",
   "language": "python",
   "name": "python3"
  },
  "language_info": {
   "codemirror_mode": {
    "name": "ipython",
    "version": 3
   },
   "file_extension": ".py",
   "mimetype": "text/x-python",
   "name": "python",
   "nbconvert_exporter": "python",
   "pygments_lexer": "ipython3",
   "version": "3.6.4"
  }
 },
 "nbformat": 4,
 "nbformat_minor": 2
}
